{
 "cells": [
  {
   "cell_type": "markdown",
   "metadata": {
    "id": "_GgLPTpV9ejD"
   },
   "source": [
    "# 3 - Neural Machine Translation by Jointly Learning to Align and Translate\n",
    "\n",
    "In this third notebook on sequence-to-sequence models using PyTorch and TorchText, we'll be implementing the model from [Neural Machine Translation by Jointly Learning to Align and Translate](https://arxiv.org/abs/1409.0473). This model achives our best perplexity yet, ~27 compared to ~34 for the previous model.\n",
    "\n",
    "## Introduction\n",
    "\n",
    "As a reminder, here is the general encoder-decoder model:\n",
    "\n",
    "![](https://github.com/bentrevett/pytorch-seq2seq/blob/master/assets/seq2seq1.png?raw=1)\n",
    "\n",
    "In the previous model, our architecture was set-up in a way to reduce \"information compression\" by explicitly passing the context vector, $z$, to the decoder at every time-step and by passing both the context vector and embedded input word, $d(y_t)$, along with the hidden state, $s_t$, to the linear layer, $f$, to make a prediction.\n",
    "\n",
    "![](https://github.com/bentrevett/pytorch-seq2seq/blob/master/assets/seq2seq7.png?raw=1)\n",
    "\n",
    "Even though we have reduced some of this compression, our context vector still needs to contain all of the information about the source sentence. The model implemented in this notebook avoids this compression by allowing the decoder to look at the entire source sentence (via its hidden states) at each decoding step! How does it do this? It uses *attention*. \n",
    "\n",
    "Attention works by first, calculating an attention vector, $a$, that is the length of the source sentence. The attention vector has the property that each element is between 0 and 1, and the entire vector sums to 1. We then calculate a weighted sum of our source sentence hidden states, $H$, to get a weighted source vector, $w$. \n",
    "\n",
    "$$w = \\sum_{i}a_ih_i$$\n",
    "\n",
    "We calculate a new weighted source vector every time-step when decoding, using it as input to our decoder RNN as well as the linear layer to make a prediction. We'll explain how to do all of this during the session.\n",
    "\n"
   ]
  },
  {
   "cell_type": "markdown",
   "metadata": {
    "id": "AKG93yxr56Lk"
   },
   "source": [
    "## Preparing Data\n",
    "\n",
    "We use [SGD (Schema-Guided Dialogue) dataset](https://github.com/google-research-datasets/dstc8-schema-guided-dialogue) that has the follow format"
   ]
  },
  {
   "cell_type": "code",
   "execution_count": 1,
   "metadata": {
    "ExecuteTime": {
     "end_time": "2021-01-26T11:32:54.263598Z",
     "start_time": "2021-01-26T11:32:53.851980Z"
    },
    "id": "rySJ5AJb9ejE"
   },
   "outputs": [],
   "source": [
    "import torch\n",
    "import torch.nn as nn\n",
    "import torch.optim as optim\n",
    "import torch.nn.functional as F\n",
    "\n",
    "from torchtext.datasets import Multi30k\n",
    "from torchtext import data\n",
    "from torchtext.data import Field, BucketIterator\n",
    "\n",
    "import spacy\n",
    "import numpy as np\n",
    "\n",
    "import random\n",
    "import math\n",
    "import time\n",
    "import json\n",
    "from tqdm import tqdm as tqdm"
   ]
  },
  {
   "cell_type": "code",
   "execution_count": 2,
   "metadata": {
    "ExecuteTime": {
     "end_time": "2021-01-26T11:32:54.268134Z",
     "start_time": "2021-01-26T11:32:54.264596Z"
    },
    "id": "uZJrN5ry9ejE"
   },
   "outputs": [],
   "source": [
    "SEED = 1234\n",
    "\n",
    "random.seed(SEED)\n",
    "np.random.seed(SEED)\n",
    "torch.manual_seed(SEED)\n",
    "torch.cuda.manual_seed(SEED)\n",
    "torch.backends.cudnn.deterministic = True"
   ]
  },
  {
   "cell_type": "code",
   "execution_count": 3,
   "metadata": {
    "ExecuteTime": {
     "end_time": "2021-01-26T11:32:54.386183Z",
     "start_time": "2021-01-26T11:32:54.269294Z"
    },
    "id": "kQD6Cb1bp56l"
   },
   "outputs": [
    {
     "name": "stdout",
     "output_type": "stream",
     "text": [
      "fatal: destination path 'dstc8-schema-guided-dialogue' already exists and is not an empty directory.\r\n"
     ]
    }
   ],
   "source": [
    "!git clone https://github.com/google-research-datasets/dstc8-schema-guided-dialogue"
   ]
  },
  {
   "cell_type": "code",
   "execution_count": 4,
   "metadata": {
    "ExecuteTime": {
     "end_time": "2021-01-26T11:33:02.372890Z",
     "start_time": "2021-01-26T11:32:54.392026Z"
    },
    "id": "dmZv5kC8Mnsd"
   },
   "outputs": [],
   "source": [
    "import glob\n",
    "import json\n",
    "\n",
    "\n",
    "def getDataset(typeOfSet):\n",
    "    dialogue_data = []\n",
    "    for file in glob.glob('dstc8-schema-guided-dialogue/' + typeOfSet +\n",
    "                          '/dialogues_*.json'):\n",
    "        with open(file) as f:\n",
    "            data = json.load(f)\n",
    "            for conv in data:\n",
    "                i = 0\n",
    "                while i < len(conv['turns']):\n",
    "                    human, bot = '', ''\n",
    "                    # to ensure consecutive utterances from the same source are treated as one\n",
    "                    while conv['turns'][i]['speaker'] == 'USER':\n",
    "                        human = human + '. ' + conv['turns'][i][\n",
    "                            'utterance'] if human else conv['turns'][i][\n",
    "                                'utterance']\n",
    "                        i += 1\n",
    "                    while i < len(conv['turns']) and conv['turns'][i][\n",
    "                            'speaker'] == 'SYSTEM':\n",
    "                        bot = bot + '. ' + conv['turns'][i][\n",
    "                            'utterance'] if bot else conv['turns'][i][\n",
    "                                'utterance']\n",
    "                        i += 1\n",
    "                    dialogue_data.append([human, bot])\n",
    "    return dialogue_data\n",
    "\n",
    "\n",
    "train_dialogue = getDataset('train')\n",
    "test_dialogue = getDataset('test')\n",
    "dev_dialogue = getDataset('dev')"
   ]
  },
  {
   "cell_type": "markdown",
   "metadata": {
    "id": "WOMyGxDLtMMf"
   },
   "source": [
    "Format dataset"
   ]
  },
  {
   "cell_type": "markdown",
   "metadata": {
    "id": "XSzI_oby9ejF"
   },
   "source": [
    "We create the tokenizers."
   ]
  },
  {
   "cell_type": "code",
   "execution_count": 5,
   "metadata": {
    "ExecuteTime": {
     "end_time": "2021-01-26T11:33:03.178192Z",
     "start_time": "2021-01-26T11:33:02.373809Z"
    },
    "id": "TGkGbyPl9ejF"
   },
   "outputs": [],
   "source": [
    "Request = Field(tokenize = 'spacy', \n",
    "            init_token = '<sos>', \n",
    "            eos_token = '<eos>', \n",
    "            lower = True)\n",
    "\n",
    "Suggest = Field(tokenize = 'spacy', \n",
    "            init_token = '<sos>', \n",
    "            eos_token = '<eos>', \n",
    "            lower = True)"
   ]
  },
  {
   "cell_type": "code",
   "execution_count": 6,
   "metadata": {
    "ExecuteTime": {
     "end_time": "2021-01-26T11:33:03.185072Z",
     "start_time": "2021-01-26T11:33:03.179610Z"
    },
    "colab": {
     "base_uri": "https://localhost:8080/"
    },
    "id": "xElY9wwP5opu",
    "outputId": "8df3cfbc-cc02-482d-ca2a-2e7d844e12d9"
   },
   "outputs": [
    {
     "data": {
      "text/plain": [
       "[('Request', <torchtext.data.field.Field at 0x7f7b203b5820>),\n",
       " ('Suggest', <torchtext.data.field.Field at 0x7f7b202c1c10>)]"
      ]
     },
     "execution_count": 6,
     "metadata": {},
     "output_type": "execute_result"
    }
   ],
   "source": [
    "fields = [('Request', Request),('Suggest', Suggest)]\n",
    "fields"
   ]
  },
  {
   "cell_type": "code",
   "execution_count": 7,
   "metadata": {
    "ExecuteTime": {
     "end_time": "2021-01-26T11:33:11.970868Z",
     "start_time": "2021-01-26T11:33:03.186215Z"
    },
    "colab": {
     "base_uri": "https://localhost:8080/"
    },
    "id": "DSUlabP_uLFz",
    "outputId": "2a271ae0-6a12-452f-8e7a-e674571ddd1b"
   },
   "outputs": [
    {
     "name": "stderr",
     "output_type": "stream",
     "text": [
      "100%|██████████| 164982/164982 [00:08<00:00, 18793.17it/s]"
     ]
    },
    {
     "name": "stdout",
     "output_type": "stream",
     "text": [
      "<torchtext.data.example.Example object at 0x7f7a96c1b520>\n"
     ]
    },
    {
     "name": "stderr",
     "output_type": "stream",
     "text": [
      "\n"
     ]
    }
   ],
   "source": [
    "train_example = [data.Example.fromlist([ex[0], ex[1]], fields) for ex in tqdm(train_dialogue)]\n",
    "print(train_example[0])\n",
    "train = data.Dataset(train_example, fields)"
   ]
  },
  {
   "cell_type": "code",
   "execution_count": 8,
   "metadata": {
    "ExecuteTime": {
     "end_time": "2021-01-26T11:33:13.487109Z",
     "start_time": "2021-01-26T11:33:11.972055Z"
    },
    "colab": {
     "base_uri": "https://localhost:8080/"
    },
    "id": "wyytTfkvj43V",
    "outputId": "e3905d8a-fd07-4261-e50f-8d3fc2b3ec6e"
   },
   "outputs": [
    {
     "name": "stdout",
     "output_type": "stream",
     "text": [
      "<torchtext.data.example.Example object at 0x7f7a7e1d67c0>\n"
     ]
    }
   ],
   "source": [
    "val_example = [data.Example.fromlist([ex[0], ex[1]], fields) for ex in dev_dialogue]\n",
    "print(val_example[0])\n",
    "valid= data.Dataset(val_example, fields)"
   ]
  },
  {
   "cell_type": "code",
   "execution_count": 9,
   "metadata": {
    "ExecuteTime": {
     "end_time": "2021-01-26T11:33:16.472165Z",
     "start_time": "2021-01-26T11:33:13.488056Z"
    },
    "colab": {
     "base_uri": "https://localhost:8080/"
    },
    "id": "LspB-SFdtIwo",
    "outputId": "57aeefb9-22f7-4afc-86d3-18db0f037fe5"
   },
   "outputs": [
    {
     "name": "stdout",
     "output_type": "stream",
     "text": [
      "<torchtext.data.example.Example object at 0x7f7a7b1cf310>\n"
     ]
    }
   ],
   "source": [
    "test_example = [data.Example.fromlist([ex[0], ex[1]], fields) for ex in test_dialogue]\n",
    "print(test_example[0])\n",
    "test = data.Dataset(test_example, fields)"
   ]
  },
  {
   "cell_type": "code",
   "execution_count": 10,
   "metadata": {
    "ExecuteTime": {
     "end_time": "2021-01-26T11:33:16.475919Z",
     "start_time": "2021-01-26T11:33:16.473284Z"
    },
    "colab": {
     "base_uri": "https://localhost:8080/"
    },
    "id": "TiuTqNZk-Ncc",
    "outputId": "111a05df-bad1-4d50-c597-cfd0d911fd3a"
   },
   "outputs": [
    {
     "data": {
      "text/plain": [
       "{'Request': ['i', \"'m\", 'looking', 'to', 'rent', 'a', 'car', '.'],\n",
       " 'Suggest': ['what',\n",
       "  'time',\n",
       "  'do',\n",
       "  'you',\n",
       "  'want',\n",
       "  'to',\n",
       "  'pick',\n",
       "  'up',\n",
       "  'the',\n",
       "  'car',\n",
       "  'and',\n",
       "  'where',\n",
       "  'do',\n",
       "  'you',\n",
       "  'want',\n",
       "  'to',\n",
       "  'get',\n",
       "  'it',\n",
       "  'from',\n",
       "  '?']}"
      ]
     },
     "execution_count": 10,
     "metadata": {},
     "output_type": "execute_result"
    }
   ],
   "source": [
    "vars(valid[0])"
   ]
  },
  {
   "cell_type": "code",
   "execution_count": 11,
   "metadata": {
    "ExecuteTime": {
     "end_time": "2021-01-26T11:33:16.482045Z",
     "start_time": "2021-01-26T11:33:16.476906Z"
    },
    "colab": {
     "base_uri": "https://localhost:8080/"
    },
    "id": "LYjRAR8tHToc",
    "outputId": "f4399085-8ba4-44d7-a668-d3109dc11b93"
   },
   "outputs": [
    {
     "data": {
      "text/plain": [
       "(164982, 24363, 42297)"
      ]
     },
     "execution_count": 11,
     "metadata": {},
     "output_type": "execute_result"
    }
   ],
   "source": [
    "(len(train), len(valid), len(test))"
   ]
  },
  {
   "cell_type": "code",
   "execution_count": 12,
   "metadata": {
    "ExecuteTime": {
     "end_time": "2021-01-26T11:33:17.403497Z",
     "start_time": "2021-01-26T11:33:16.483134Z"
    },
    "colab": {
     "base_uri": "https://localhost:8080/"
    },
    "id": "_oKpKejuHWQ_",
    "outputId": "6d52f2fa-fb73-4aaa-e75a-85e34c31f496"
   },
   "outputs": [
    {
     "name": "stderr",
     "output_type": "stream",
     "text": [
      "[nltk_data] Downloading package stopwords to /home/deep/nltk_data...\n",
      "[nltk_data]   Package stopwords is already up-to-date!\n"
     ]
    },
    {
     "data": {
      "text/plain": [
       "179"
      ]
     },
     "execution_count": 12,
     "metadata": {},
     "output_type": "execute_result"
    }
   ],
   "source": [
    "from nltk.corpus import stopwords\n",
    "import nltk\n",
    "nltk.download('stopwords')\n",
    "stopwords = stopwords.words(\"english\")\n",
    "\n",
    "\n",
    "def remove_stopwords(word_list):\n",
    "    return [word for word in word_list if word not in stopwords]\n",
    "\n",
    "\n",
    "len(stopwords)"
   ]
  },
  {
   "cell_type": "code",
   "execution_count": 13,
   "metadata": {
    "ExecuteTime": {
     "end_time": "2021-01-26T11:33:17.419812Z",
     "start_time": "2021-01-26T11:33:17.408155Z"
    },
    "colab": {
     "base_uri": "https://localhost:8080/"
    },
    "id": "sBq4r5EluXyA",
    "outputId": "46d92f80-733a-467d-f89b-1d11d1ce31d4"
   },
   "outputs": [
    {
     "data": {
      "text/plain": [
       "['i',\n",
       " 'me',\n",
       " 'my',\n",
       " 'myself',\n",
       " 'we',\n",
       " 'our',\n",
       " 'ours',\n",
       " 'ourselves',\n",
       " 'you',\n",
       " \"you're\",\n",
       " \"you've\",\n",
       " \"you'll\",\n",
       " \"you'd\",\n",
       " 'your',\n",
       " 'yours',\n",
       " 'yourself',\n",
       " 'yourselves',\n",
       " 'he',\n",
       " 'him',\n",
       " 'his',\n",
       " 'himself',\n",
       " 'she',\n",
       " \"she's\",\n",
       " 'her',\n",
       " 'hers',\n",
       " 'herself',\n",
       " 'it',\n",
       " \"it's\",\n",
       " 'its',\n",
       " 'itself',\n",
       " 'they',\n",
       " 'them',\n",
       " 'their',\n",
       " 'theirs',\n",
       " 'themselves',\n",
       " 'what',\n",
       " 'which',\n",
       " 'who',\n",
       " 'whom',\n",
       " 'this',\n",
       " 'that',\n",
       " \"that'll\",\n",
       " 'these',\n",
       " 'those',\n",
       " 'am',\n",
       " 'is',\n",
       " 'are',\n",
       " 'was',\n",
       " 'were',\n",
       " 'be',\n",
       " 'been',\n",
       " 'being',\n",
       " 'have',\n",
       " 'has',\n",
       " 'had',\n",
       " 'having',\n",
       " 'do',\n",
       " 'does',\n",
       " 'did',\n",
       " 'doing',\n",
       " 'a',\n",
       " 'an',\n",
       " 'the',\n",
       " 'and',\n",
       " 'but',\n",
       " 'if',\n",
       " 'or',\n",
       " 'because',\n",
       " 'as',\n",
       " 'until',\n",
       " 'while',\n",
       " 'of',\n",
       " 'at',\n",
       " 'by',\n",
       " 'for',\n",
       " 'with',\n",
       " 'about',\n",
       " 'against',\n",
       " 'between',\n",
       " 'into',\n",
       " 'through',\n",
       " 'during',\n",
       " 'before',\n",
       " 'after',\n",
       " 'above',\n",
       " 'below',\n",
       " 'to',\n",
       " 'from',\n",
       " 'up',\n",
       " 'down',\n",
       " 'in',\n",
       " 'out',\n",
       " 'on',\n",
       " 'off',\n",
       " 'over',\n",
       " 'under',\n",
       " 'again',\n",
       " 'further',\n",
       " 'then',\n",
       " 'once',\n",
       " 'here',\n",
       " 'there',\n",
       " 'when',\n",
       " 'where',\n",
       " 'why',\n",
       " 'how',\n",
       " 'all',\n",
       " 'any',\n",
       " 'both',\n",
       " 'each',\n",
       " 'few',\n",
       " 'more',\n",
       " 'most',\n",
       " 'other',\n",
       " 'some',\n",
       " 'such',\n",
       " 'no',\n",
       " 'nor',\n",
       " 'not',\n",
       " 'only',\n",
       " 'own',\n",
       " 'same',\n",
       " 'so',\n",
       " 'than',\n",
       " 'too',\n",
       " 'very',\n",
       " 's',\n",
       " 't',\n",
       " 'can',\n",
       " 'will',\n",
       " 'just',\n",
       " 'don',\n",
       " \"don't\",\n",
       " 'should',\n",
       " \"should've\",\n",
       " 'now',\n",
       " 'd',\n",
       " 'll',\n",
       " 'm',\n",
       " 'o',\n",
       " 're',\n",
       " 've',\n",
       " 'y',\n",
       " 'ain',\n",
       " 'aren',\n",
       " \"aren't\",\n",
       " 'couldn',\n",
       " \"couldn't\",\n",
       " 'didn',\n",
       " \"didn't\",\n",
       " 'doesn',\n",
       " \"doesn't\",\n",
       " 'hadn',\n",
       " \"hadn't\",\n",
       " 'hasn',\n",
       " \"hasn't\",\n",
       " 'haven',\n",
       " \"haven't\",\n",
       " 'isn',\n",
       " \"isn't\",\n",
       " 'ma',\n",
       " 'mightn',\n",
       " \"mightn't\",\n",
       " 'mustn',\n",
       " \"mustn't\",\n",
       " 'needn',\n",
       " \"needn't\",\n",
       " 'shan',\n",
       " \"shan't\",\n",
       " 'shouldn',\n",
       " \"shouldn't\",\n",
       " 'wasn',\n",
       " \"wasn't\",\n",
       " 'weren',\n",
       " \"weren't\",\n",
       " 'won',\n",
       " \"won't\",\n",
       " 'wouldn',\n",
       " \"wouldn't\"]"
      ]
     },
     "execution_count": 13,
     "metadata": {},
     "output_type": "execute_result"
    }
   ],
   "source": [
    "stopwords"
   ]
  },
  {
   "cell_type": "code",
   "execution_count": 14,
   "metadata": {
    "ExecuteTime": {
     "end_time": "2021-01-26T11:33:21.625394Z",
     "start_time": "2021-01-26T11:33:17.422207Z"
    },
    "id": "Jy2kKXA9H-1y"
   },
   "outputs": [],
   "source": [
    "for eg in train:\n",
    "  eg.Request = remove_stopwords(eg.Request)\n",
    "  eg.Suggest = remove_stopwords(eg.Suggest)"
   ]
  },
  {
   "cell_type": "markdown",
   "metadata": {
    "id": "Ot8vlVo09ejF"
   },
   "source": [
    "Build the vocabulary. small vocab. what to not set maxsize????"
   ]
  },
  {
   "cell_type": "code",
   "execution_count": 15,
   "metadata": {
    "ExecuteTime": {
     "end_time": "2021-01-26T11:33:22.549293Z",
     "start_time": "2021-01-26T11:33:21.626300Z"
    },
    "id": "DABus9HGLKdM"
   },
   "outputs": [],
   "source": [
    "# MAX_VOCAB_SIZE = 30000\n",
    "# ,\n",
    "#                       max_size = MAX_VOCAB_SIZE,\n",
    "#                      vectors=\"glove.6B.300d\",\n",
    "#                      unk_init = torch.Tensor.normal_\n",
    "Request.build_vocab(train)\n",
    "Suggest.build_vocab(train)"
   ]
  },
  {
   "cell_type": "code",
   "execution_count": 16,
   "metadata": {
    "ExecuteTime": {
     "end_time": "2021-01-26T11:33:22.552428Z",
     "start_time": "2021-01-26T11:33:22.550228Z"
    },
    "colab": {
     "base_uri": "https://localhost:8080/"
    },
    "id": "cKXSlt9QjfDc",
    "outputId": "103da056-eaa3-4aea-ec7f-1465516d1387"
   },
   "outputs": [
    {
     "data": {
      "text/plain": [
       "8084"
      ]
     },
     "execution_count": 16,
     "metadata": {},
     "output_type": "execute_result"
    }
   ],
   "source": [
    "len(Request.vocab)"
   ]
  },
  {
   "cell_type": "markdown",
   "metadata": {
    "id": "BtqKGxNO9ejF"
   },
   "source": [
    "Define the device."
   ]
  },
  {
   "cell_type": "code",
   "execution_count": 17,
   "metadata": {
    "ExecuteTime": {
     "end_time": "2021-01-26T11:33:22.587150Z",
     "start_time": "2021-01-26T11:33:22.553368Z"
    },
    "id": "ey8yA-Yh9ejF"
   },
   "outputs": [],
   "source": [
    "device = torch.device('cuda' if torch.cuda.is_available() else 'cpu')"
   ]
  },
  {
   "cell_type": "markdown",
   "metadata": {
    "id": "aqnAGiVU9ejF"
   },
   "source": [
    "Create the iterators."
   ]
  },
  {
   "cell_type": "code",
   "execution_count": 18,
   "metadata": {
    "ExecuteTime": {
     "end_time": "2021-01-26T11:33:22.591340Z",
     "start_time": "2021-01-26T11:33:22.588637Z"
    },
    "id": "-MC-SpX7gFwV"
   },
   "outputs": [],
   "source": [
    "BATCH_SIZE = 64\n",
    "\n",
    "train_iterator, valid_iterator, test_iterator = BucketIterator.splits(\n",
    "    (train, valid, test), \n",
    "    batch_size = BATCH_SIZE,\n",
    "    sort_key = lambda x: len(x.Request),\n",
    "    sort_within_batch=True,\n",
    "    device = device)"
   ]
  },
  {
   "cell_type": "markdown",
   "metadata": {
    "id": "QP5s8Vov9ejF"
   },
   "source": [
    "## Building the Seq2Seq Model\n",
    "\n",
    "### Encoder\n",
    "\n",
    "The encoder is similar to the previous one, with the multi-layer LSTM swapped for a single-layer GRU. We also don't pass the dropout as an argument to the GRU as that dropout is used between each layer of a multi-layered RNN. As we only have a single layer, PyTorch will display a warning if we try and use pass a dropout value to it.\n",
    "\n",
    "Another thing to note about the GRU is that it only requires and returns a hidden state, there is no cell state like in the LSTM.\n",
    "\n",
    "$$\\begin{align*}\n",
    "h_t &= \\text{GRU}(e(x_t), h_{t-1})\\\\\n",
    "(h_t, c_t) &= \\text{LSTM}(e(x_t), h_{t-1}, c_{t-1})\\\\\n",
    "h_t &= \\text{RNN}(e(x_t), h_{t-1})\n",
    "\\end{align*}$$\n",
    "\n",
    "From the equations above, it looks like the RNN and the GRU are identical. Inside the GRU, however, is a number of *gating mechanisms* that control the information flow in to and out of the hidden state (similar to an LSTM). Again, for more info, check out [this](https://colah.github.io/posts/2015-08-Understanding-LSTMs/) excellent post. \n",
    "\n",
    "The rest of the encoder should be very familar from the last session, it takes in a sequence, $X = \\{x_1, x_2, ... , x_T\\}$, passes it through the embedding layer, recurrently calculates hidden states, $H = \\{h_1, h_2, ..., h_T\\}$, and returns a context vector (the final hidden state), $z=h_T$.\n",
    "\n",
    "$$h_t = \\text{EncoderGRU}(e(x_t), h_{t-1})$$\n",
    "\n",
    "This is identical to the encoder of the general seq2seq model, with all the \"magic\" happening inside the GRU (green).\n",
    "\n",
    "![](https://github.com/bentrevett/pytorch-seq2seq/blob/master/assets/seq2seq5.png?raw=1)"
   ]
  },
  {
   "cell_type": "code",
   "execution_count": 19,
   "metadata": {
    "ExecuteTime": {
     "end_time": "2021-01-26T11:33:22.595866Z",
     "start_time": "2021-01-26T11:33:22.592349Z"
    },
    "id": "Y8ovMJ3_9ejF"
   },
   "outputs": [],
   "source": [
    "class Encoder(nn.Module):\n",
    "    '''\n",
    "    encoder rakes ainpuyt and runs it through the lstm\n",
    "    for example let's say the input size is [30,128],\n",
    "    here 30 means 30 words/onehot and 128 means batch size\n",
    "    \n",
    "    first pass it through the embedding dim of let's say 512\n",
    "    so the embedding output will bw [30,128,512]\n",
    "    then pass this to lstm which will give you output and hidden cell state\n",
    "    outputs wil have output at each time step so the first dim is sec_len\n",
    "    hidden and cell is the final state output so they don't have src_len in the output \n",
    "    let's say hidden dim for lstm is 10\n",
    "    outputs = [src_len,batch_size,hid_dim*n_layers]\n",
    "    hidden = [n layers * n directions, batch size, hid dim] [2,128,10] 2 for 2 layer\n",
    "    cell = [n layers * n directions, batch size, hid dim] [2,128,10] 2 for 2 layer\n",
    "    \n",
    "    '''\n",
    "    \n",
    "    def __init__(self, input_dim, emb_dim, hid_dim, dropout):\n",
    "        super().__init__()\n",
    "        self.hid_dim = hid_dim\n",
    "        self.n_layers = 1\n",
    "        \n",
    "        self.embedding = nn.Embedding(input_dim,emb_dim) #no dropout as only one layer!\n",
    "        self.rnn = nn.GRU(emb_dim,hid_dim)\n",
    "        self.dropout = nn.Dropout(dropout)\n",
    "        \n",
    "    def forward(self, src):\n",
    "        # src = [src_len, batch_size, emb_dim]\n",
    "        embedded = self.dropout(self.embedding(src))\n",
    "        \n",
    "        # embedded = [src_len, batch_size, emb_dim]\n",
    "        outputs, hidden = self.rnn(embedded)  #no cell state because we are using GRU\n",
    "        \n",
    "        #outputs = [src len, batch size, hid dim * n directions]\n",
    "        #hidden = [n layers * n directions, batch size, hid dim]\n",
    "        \n",
    "        # outputs are always from top hidden layer\n",
    "        \n",
    "        return hidden\n",
    "        \n"
   ]
  },
  {
   "cell_type": "markdown",
   "metadata": {
    "id": "pb-p1mhO9ejF"
   },
   "source": [
    "## Decoder\n",
    "\n",
    "The decoder is where the implementation differs significantly from the previous model and we alleviate some of the information compression.\n",
    "\n",
    "Instead of the GRU in the decoder taking just the embedded target token, $d(y_t)$ and the previous hidden state $s_{t-1}$ as inputs, it also takes the context vector $z$. \n",
    "\n",
    "$$s_t = \\text{DecoderGRU}(d(y_t), s_{t-1}, z)$$\n",
    "\n",
    "Note how this context vector, $z$, does not have a $t$ subscript, meaning we re-use the same context vector returned by the encoder for every time-step in the decoder. \n",
    "\n",
    "Before, we predicted the next token, $\\hat{y}_{t+1}$, with the linear layer, $f$, only using the top-layer decoder hidden state at that time-step, $s_t$, as $\\hat{y}_{t+1}=f(s_t^L)$. Now, we also pass the embedding of current token, $d(y_t)$ and the context vector, $z$ to the linear layer.\n",
    "\n",
    "$$\\hat{y}_{t+1} = f(d(y_t), s_t, z)$$\n",
    "\n",
    "Thus, our decoder now looks something like this:\n",
    "\n",
    "![](https://github.com/bentrevett/pytorch-seq2seq/blob/master/assets/seq2seq6.png?raw=1)\n",
    "\n",
    "Note, the initial hidden state, $s_0$, is still the context vector, $z$, so when generating the first token we are actually inputting two identical context vectors into the GRU.\n",
    "\n",
    "How do these two changes reduce the information compression? Well, hypothetically the decoder hidden states, $s_t$, no longer need to contain information about the source sequence as it is always available as an input. Thus, it only needs to contain information about what tokens it has generated so far. The addition of $y_t$ to the linear layer also means this layer can directly see what the token is, without having to get this information from the hidden state. \n",
    "\n",
    "However, this hypothesis is just a hypothesis, it is impossible to determine how the model actually uses the information provided to it (don't listen to anyone that says differently). Nevertheless, it is a solid intuition and the results seem to indicate that this modifications are a good idea!\n",
    "\n",
    "Within the implementation, we will pass $d(y_t)$ and $z$ to the GRU by concatenating them together, so the input dimensions to the GRU are now `emb_dim + hid_dim` (as context vector will be of size `hid_dim`). The linear layer will take $d(y_t), s_t$ and $z$ also by concatenating them together, hence the input dimensions are now `emb_dim + hid_dim*2`. We also don't pass a value of dropout to the GRU as it only uses a single layer.\n",
    "\n",
    "`forward` now takes a `context` argument. Inside of `forward`, we concatenate $y_t$ and $z$ as `emb_con` before feeding to the GRU, and we concatenate $d(y_t)$, $s_t$ and $z$ together as `output` before feeding it through the linear layer to receive our predictions, $\\hat{y}_{t+1}$."
   ]
  },
  {
   "cell_type": "code",
   "execution_count": 20,
   "metadata": {
    "ExecuteTime": {
     "end_time": "2021-01-26T11:33:22.601640Z",
     "start_time": "2021-01-26T11:33:22.597131Z"
    },
    "id": "5wg3PolD9ejF"
   },
   "outputs": [],
   "source": [
    "class Decoder(nn.Module):\n",
    "    '''\n",
    "        Decoder takes an input and runs it through the lstm\n",
    "        decoder runs one word of batch\n",
    "        for example let's say the input size is [128]\n",
    "        here 128 means a batch of 128 words lets say all the 0th index 128 words\n",
    "        \n",
    "        first pass it through embedding dim of let's say 512\n",
    "        so the embedding output will be [1,batch_size,emb_dim][1,128,512]\n",
    "        then pass this ti lstm which will give you output and hidden cell state \n",
    "        outputs will have output at each time step so the first dim is src_len\n",
    "        but since decoder has only one word of batch the first dim is 0 here\n",
    "        hidden and cell os the dinal state output so they don't have src_len in the output as usual\n",
    "        let's say hidden dim for lstm is 10\n",
    "        outputs = [src_len,btach_size,hid_dim*n_directions][1,128,10] 1 here because decoder runs one word\n",
    "        hidden = [n layers * n directions, batch size, hid dim] [2,128,10] 2 for 2 layer, we are using 1 here\n",
    "        cell = [n layers * n directions, batch size, hid dim] [2,128,10] 2 for 2 layer, we are using 1 here\n",
    "    '''\n",
    "    def __init__(self, output_dim, emb_dim, hid_dim, dropout):\n",
    "        super().__init__()\n",
    "\n",
    "        self.hid_dim = hid_dim\n",
    "        self.output_dim = output_dim\n",
    "\n",
    "        self.embedding = nn.Embedding(output_dim, emb_dim)\n",
    "\n",
    "        self.rnn = nn.GRU(emb_dim + hid_dim, hid_dim)\n",
    "\n",
    "        self.fc_out = nn.Linear(emb_dim + hid_dim * 2,\n",
    "                                output_dim)  # we are using same dim here\n",
    "\n",
    "        self.dropout = nn.Dropout(dropout)\n",
    "\n",
    "    def forward(self, input, hidden, context):\n",
    "        \n",
    "        # input = [batch_size]\n",
    "        # hidden = [n_layers*n_direction,batch_size,hid_dim]\n",
    "        # context = [n_layers*n_direction,batch_size,hid_dim]\n",
    "        # n layers and n directions in the decoder will both always be 1,therefore ?? why always, only in this case, for example if we use 2 layers it may change\n",
    "        # hidden = [1, batch_size, hid_dim]\n",
    "        # context = [1, batch_size, hid_dim]\n",
    "        \n",
    "        input = input.unsqueeze(0)\n",
    "        # input = [1, batch_size]\n",
    "        embedded = self.dropout(self.embedding(input))\n",
    "        # embedded = [1,batch_size,emb_dim]\n",
    "        \n",
    "        emb_con = torch.cat((embedded, context),\n",
    "                             dim=2)  # last dim is output dim\n",
    "        # emb_con = [1,batch_size,emb_dim+hid_dim]\n",
    "\n",
    "        output, hidden = self.rnn(emb_con, hidden)\n",
    "        # output = [seq_len,batch_size,hid_dim*n_directions]\n",
    "        # hidden = [n_layers * n_directions,batch_size,hid_dim]\n",
    "        \n",
    "        #seq len, n layers and n directions will always be 1 in the decoder, therefore:\n",
    "        #output = [1, batch size, hid dim]\n",
    "        #hidden = [1, batch size, hid dim]\n",
    "        \n",
    "        output = torch.cat((embedded.squeeze(0), hidden.squeeze(0), context.squeeze(0)), dim = 1)\n",
    "        \n",
    "        prediction = self.fc_out(output.squeeze(0))\n",
    "        #prediction = [batch size, output dim]\n",
    "        \n",
    "        # print('--------- check the shapes inside Decoder forward ---------')\n",
    "        # print('input shape {}, hidden shape {}, context shape {}'.format(input.shape,hidden.shape,context.shape))\n",
    "        # print('embedded shape {},emb_con shape {},output shape {},hidden shape {},'.format(embedded.shape,emb_con.shape,output.shape,hidden.shape))\n",
    "        # print('prediction shape {}'.format(prediction.shape))\n",
    "        \n",
    "        return prediction, hidden"
   ]
  },
  {
   "cell_type": "markdown",
   "metadata": {
    "id": "gj7DZYQD9ejF"
   },
   "source": [
    "## Seq2Seq Model\n",
    "\n",
    "Putting the encoder and decoder together, we get:\n",
    "\n",
    "![](https://github.com/bentrevett/pytorch-seq2seq/blob/master/assets/seq2seq7.png?raw=1)\n",
    "\n",
    "Again, in this implementation we need to ensure the hidden dimensions in both the encoder and the decoder are the same.\n",
    "\n",
    "Briefly going over all of the steps:\n",
    "- the `outputs` tensor is created to hold all predictions, $\\hat{Y}$\n",
    "- the source sequence, $X$, is fed into the encoder to receive a `context` vector\n",
    "- the initial decoder hidden state is set to be the `context` vector, $s_0 = z = h_T$\n",
    "- we use a batch of `<sos>` tokens as the first `input`, $y_1$\n",
    "- we then decode within a loop:\n",
    "  - inserting the input token $y_t$, previous hidden state, $s_{t-1}$, and the context vector, $z$, into the decoder\n",
    "  - receiving a prediction, $\\hat{y}_{t+1}$, and a new hidden state, $s_t$\n",
    "  - we then decide if we are going to teacher force or not, setting the next input as appropriate (either the ground truth next token in the target sequence or the highest predicted next token)"
   ]
  },
  {
   "cell_type": "code",
   "execution_count": 21,
   "metadata": {
    "ExecuteTime": {
     "end_time": "2021-01-26T11:33:22.608280Z",
     "start_time": "2021-01-26T11:33:22.604176Z"
    },
    "id": "UEkTIixA9ejF"
   },
   "outputs": [],
   "source": [
    "class Seq2Seq(nn.Module):\n",
    "    def __init__(self, encoder, decoder, device):\n",
    "        super().__init__()\n",
    "\n",
    "        self.encoder = encoder\n",
    "        self.decoder = decoder\n",
    "        self.device = device\n",
    "\n",
    "        assert encoder.hid_dim == decoder.hid_dim, \\\n",
    "            \"Hidden dimensions of encoder and decoder must be equal!\"\n",
    "\n",
    "    def forward(self, src, trg, teacher_forcing_ratio=0.5):\n",
    "\n",
    "        # src = [src_len,batch_size]\n",
    "        # trg = [trg_len,batch_size]\n",
    "\n",
    "        # teacher_forcing_ratio is probability to use teacher forcing\n",
    "        # e.g if teacher_forcing_ratio is 0.75 we use ground-truth inputs 75% of the time\n",
    "\n",
    "        batch_size = trg.shape[1]\n",
    "        trg_len = trg.shape[0]\n",
    "        trg_vocab_size = self.decoder.output_dim\n",
    "\n",
    "        # tensor to store decoder outputs\n",
    "        outputs = torch.zeros(trg_len, batch_size, trg_vocab_size).to(device)\n",
    "\n",
    "        # last hidden state of the encoder is the context\n",
    "        context = self.encoder(src)\n",
    "\n",
    "        # context also used as the initial hidden state of the decoder\n",
    "        hidden = context\n",
    "\n",
    "        # first inout to the decoder is the <sos> tokens\n",
    "        input = trg[0, :]\n",
    "\n",
    "        # print('--------- check the shapes inside Seq2Seq forward ---------')\n",
    "        # print('src shape {}, trg shape {}'.format(src.shape,trg.shape))\n",
    "        # print('batch_size is {} , trg_len is {} , trg_vocab_size {} , outputs shape {} ,'.format(batch_size,trg_len,trg_vocab_size,outputs.shape))\n",
    "        # print('context vector {}, '.format(context.shape))\n",
    "        \n",
    "        for t in range(1, trg_len):\n",
    "\n",
    "            # insert input token embeddingm previous hidden state and the context state\n",
    "            # recieve output tensor i.e predictions and the new hidden state\n",
    "            # context/hidden dim is [1,batch_size,hid_dim_enc], 1 for 1 layer\n",
    "            # output dim [batch_size,vocab_len]\n",
    "            \n",
    "            output, hidden = self.decoder(input, hidden, context)\n",
    "\n",
    "            # place predictions in a tensor holding predictions for each token\n",
    "            outputs[t] = output\n",
    "\n",
    "            # decide if we are going to use teacher forcing or not\n",
    "            teacher_force = random.random() < teacher_forcing_ratio\n",
    "\n",
    "            # get the highest prediction token from out predictions\n",
    "            # top1 has the dim [batch_size,vocab_len]\n",
    "            # each example/word output a vector of target vocab length and we are taking the index of that\n",
    "            # out has trg_vocab size , let's say there are 1000 words and by taking index\n",
    "            # we are saying select the word which has highest value\n",
    "            top1 = output.argmax(\n",
    "                1)\n",
    "\n",
    "            #if teacher forcing, use actual next token as next input\n",
    "            #if not, use predicted token\n",
    "            input = trg[t] if teacher_force else top1\n",
    "\n",
    "        return outputs"
   ]
  },
  {
   "cell_type": "markdown",
   "metadata": {
    "id": "cXyLKEkh9ejF"
   },
   "source": [
    "## Training the Seq2Seq Model\n",
    "\n",
    "The rest of this session is very similar to the previous one.\n",
    "\n",
    "We initialise our parameters, encoder, decoder and seq2seq model (placing it on the GPU if we have one). "
   ]
  },
  {
   "cell_type": "code",
   "execution_count": 22,
   "metadata": {
    "ExecuteTime": {
     "end_time": "2021-01-26T11:33:24.052941Z",
     "start_time": "2021-01-26T11:33:22.609958Z"
    },
    "id": "f7FRQ8UR9ejF"
   },
   "outputs": [],
   "source": [
    "INPUT_DIM = len(Request.vocab)\n",
    "OUTPUT_DIM = len(Suggest.vocab)\n",
    "ENC_EMB_DIM = 256\n",
    "DEC_EMB_DIM = 256\n",
    "HID_DIM = 512\n",
    "ENC_DROPOUT = 0.5\n",
    "DEC_DROPOUT = 0.5\n",
    "\n",
    "enc = Encoder(INPUT_DIM, ENC_EMB_DIM, HID_DIM, ENC_DROPOUT)\n",
    "dec = Decoder(OUTPUT_DIM, DEC_EMB_DIM, HID_DIM, DEC_DROPOUT)\n",
    "\n",
    "device = torch.device('cuda' if torch.cuda.is_available() else 'cpu')\n",
    "\n",
    "model = Seq2Seq(enc, dec, device).to(device)"
   ]
  },
  {
   "cell_type": "markdown",
   "metadata": {
    "id": "Ux1sNqPk9ejF"
   },
   "source": [
    "We use a simplified version of the weight initialization scheme used in the paper. Here, we will initialize all biases to zero and all weights from $\\mathcal{N}(0, 0.01)$."
   ]
  },
  {
   "cell_type": "code",
   "execution_count": 23,
   "metadata": {
    "ExecuteTime": {
     "end_time": "2021-01-26T11:33:24.057580Z",
     "start_time": "2021-01-26T11:33:24.053883Z"
    },
    "colab": {
     "base_uri": "https://localhost:8080/"
    },
    "id": "YXaq2o559ejF",
    "outputId": "5ad51a95-2ed7-4240-b738-a32d711280b0"
   },
   "outputs": [
    {
     "data": {
      "text/plain": [
       "Seq2Seq(\n",
       "  (encoder): Encoder(\n",
       "    (embedding): Embedding(8084, 256)\n",
       "    (rnn): GRU(256, 512)\n",
       "    (dropout): Dropout(p=0.5, inplace=False)\n",
       "  )\n",
       "  (decoder): Decoder(\n",
       "    (embedding): Embedding(15216, 256)\n",
       "    (rnn): GRU(768, 512)\n",
       "    (fc_out): Linear(in_features=1280, out_features=15216, bias=True)\n",
       "    (dropout): Dropout(p=0.5, inplace=False)\n",
       "  )\n",
       ")"
      ]
     },
     "execution_count": 23,
     "metadata": {},
     "output_type": "execute_result"
    }
   ],
   "source": [
    "def init_weights(m):\n",
    "    for name, param in m.named_parameters():\n",
    "        nn.init.normal_(param.data, mean=0, std=0.01)\n",
    "        \n",
    "model.apply(init_weights)"
   ]
  },
  {
   "cell_type": "markdown",
   "metadata": {
    "id": "ij9nRbgx9ejH"
   },
   "source": [
    "Calculate the number of parameters. We get an increase of almost 50% in the amount of parameters from the last model. "
   ]
  },
  {
   "cell_type": "code",
   "execution_count": 24,
   "metadata": {
    "ExecuteTime": {
     "end_time": "2021-01-26T11:33:24.062099Z",
     "start_time": "2021-01-26T11:33:24.058533Z"
    },
    "colab": {
     "base_uri": "https://localhost:8080/"
    },
    "id": "2oAsDCtJ9ejH",
    "outputId": "63b4d366-6513-40bd-a015-7ba59bea8277"
   },
   "outputs": [
    {
     "name": "stdout",
     "output_type": "stream",
     "text": [
      "The model has 28,608,368 trainable parameters\n"
     ]
    }
   ],
   "source": [
    "def count_parameters(model):\n",
    "    return sum(p.numel() for p in model.parameters() if p.requires_grad)\n",
    "\n",
    "print(f'The model has {count_parameters(model):,} trainable parameters')"
   ]
  },
  {
   "cell_type": "markdown",
   "metadata": {
    "id": "h-C9PF1d9ejH"
   },
   "source": [
    "We create an optimizer."
   ]
  },
  {
   "cell_type": "code",
   "execution_count": 25,
   "metadata": {
    "ExecuteTime": {
     "end_time": "2021-01-26T11:33:24.065190Z",
     "start_time": "2021-01-26T11:33:24.063113Z"
    },
    "id": "4B42w9-vvoYM"
   },
   "outputs": [],
   "source": [
    "optimizer = optim.Adam(model.parameters(), weight_decay=0.01)"
   ]
  },
  {
   "cell_type": "markdown",
   "metadata": {
    "id": "A5FzwRlz9ejH"
   },
   "source": [
    "We initialize the loss function."
   ]
  },
  {
   "cell_type": "code",
   "execution_count": 26,
   "metadata": {
    "ExecuteTime": {
     "end_time": "2021-01-26T11:33:24.069304Z",
     "start_time": "2021-01-26T11:33:24.066132Z"
    },
    "id": "0iAv-6As9ejH"
   },
   "outputs": [],
   "source": [
    "SUGGEST_PAD_IDX = Suggest.vocab.stoi[Suggest.pad_token]\n",
    "\n",
    "criterion = nn.CrossEntropyLoss(ignore_index = SUGGEST_PAD_IDX)"
   ]
  },
  {
   "cell_type": "markdown",
   "metadata": {
    "id": "-bzv6baC9ejH"
   },
   "source": [
    "We then create the training loop..."
   ]
  },
  {
   "cell_type": "code",
   "execution_count": 27,
   "metadata": {
    "ExecuteTime": {
     "end_time": "2021-01-26T11:33:24.074365Z",
     "start_time": "2021-01-26T11:33:24.070319Z"
    },
    "id": "bYPFqH6a9ejH"
   },
   "outputs": [],
   "source": [
    "def train(model, iterator, optimizer, criterion, clip):\n",
    "    \n",
    "    model.train()\n",
    "    \n",
    "    epoch_loss = 0\n",
    "    \n",
    "    for i, batch in enumerate(iterator):\n",
    "        \n",
    "        src = batch.Request\n",
    "        trg = batch.Suggest\n",
    "        optimizer.zero_grad()\n",
    "        \n",
    "        output = model(src, trg)\n",
    "        \n",
    "        #trg = [trg len, batch size]\n",
    "        #output = [trg len, batch size, output dim]\n",
    "        \n",
    "        output_dim = output.shape[-1]\n",
    "        \n",
    "        output = output[1:].view(-1, output_dim)\n",
    "        trg = trg[1:].view(-1)\n",
    "        \n",
    "        #trg = [(trg len - 1) * batch size]\n",
    "        #output = [(trg len - 1) * batch size, output dim]\n",
    "        \n",
    "        loss = criterion(output, trg)\n",
    "        \n",
    "        loss.backward()\n",
    "        \n",
    "        torch.nn.utils.clip_grad_norm_(model.parameters(), clip)\n",
    "        \n",
    "        optimizer.step()\n",
    "        \n",
    "        epoch_loss += loss.item()\n",
    "        \n",
    "    return epoch_loss / len(iterator)"
   ]
  },
  {
   "cell_type": "markdown",
   "metadata": {
    "id": "sNawOMJD9ejH"
   },
   "source": [
    "...and the evaluation loop, remembering to set the model to `eval` mode and turn off teaching forcing."
   ]
  },
  {
   "cell_type": "code",
   "execution_count": 28,
   "metadata": {
    "ExecuteTime": {
     "end_time": "2021-01-26T11:33:24.079342Z",
     "start_time": "2021-01-26T11:33:24.075282Z"
    },
    "id": "AQotLtCi9ejH"
   },
   "outputs": [],
   "source": [
    "def evaluate(model, iterator, criterion):\n",
    "    \n",
    "    model.eval()\n",
    "    \n",
    "    epoch_loss = 0\n",
    "    \n",
    "    with torch.no_grad():\n",
    "    \n",
    "        for i, batch in enumerate(iterator):\n",
    "\n",
    "            src = batch.Request\n",
    "            trg = batch.Suggest\n",
    "\n",
    "            output = model(src, trg, 0) #turn off teacher forcing\n",
    "\n",
    "            #trg = [trg len, batch size]\n",
    "            #output = [trg len, batch size, output dim]\n",
    "\n",
    "            output_dim = output.shape[-1]\n",
    "            \n",
    "            output = output[1:].view(-1, output_dim)\n",
    "            trg = trg[1:].view(-1)\n",
    "\n",
    "            #trg = [(trg len - 1) * batch size]\n",
    "            #output = [(trg len - 1) * batch size, output dim]\n",
    "\n",
    "            loss = criterion(output, trg)\n",
    "\n",
    "            epoch_loss += loss.item()\n",
    "        \n",
    "    return epoch_loss / len(iterator)"
   ]
  },
  {
   "cell_type": "markdown",
   "metadata": {
    "id": "4_TUjr1O9ejH"
   },
   "source": [
    "Finally, define a timing function."
   ]
  },
  {
   "cell_type": "code",
   "execution_count": 29,
   "metadata": {
    "ExecuteTime": {
     "end_time": "2021-01-26T11:33:24.083309Z",
     "start_time": "2021-01-26T11:33:24.080276Z"
    },
    "id": "_UMyHEYS9ejH"
   },
   "outputs": [],
   "source": [
    "def epoch_time(start_time, end_time):\n",
    "    elapsed_time = end_time - start_time\n",
    "    elapsed_mins = int(elapsed_time / 60)\n",
    "    elapsed_secs = int(elapsed_time - (elapsed_mins * 60))\n",
    "    return elapsed_mins, elapsed_secs"
   ]
  },
  {
   "cell_type": "markdown",
   "metadata": {
    "id": "wYKIfYvY9ejH"
   },
   "source": [
    "Then, we train our model, saving the parameters that give us the best validation loss."
   ]
  },
  {
   "cell_type": "code",
   "execution_count": null,
   "metadata": {
    "ExecuteTime": {
     "start_time": "2021-01-26T11:32:53.891Z"
    },
    "colab": {
     "base_uri": "https://localhost:8080/"
    },
    "id": "V2-2b9-W9ejH",
    "outputId": "c05e01f1-f7f7-4294-8c85-2c5df18d99c8"
   },
   "outputs": [
    {
     "name": "stdout",
     "output_type": "stream",
     "text": [
      "Epoch: 01 | Time: 5m 30s\n",
      "\tTrain Loss: 5.729 | Train PPL: 307.740\n",
      "\t Val. Loss: 8.146 |  Val. PPL: 3448.496\n",
      "Epoch: 02 | Time: 5m 28s\n",
      "\tTrain Loss: 5.681 | Train PPL: 293.116\n",
      "\t Val. Loss: 7.990 |  Val. PPL: 2952.282\n",
      "Epoch: 03 | Time: 5m 29s\n",
      "\tTrain Loss: 5.675 | Train PPL: 291.465\n",
      "\t Val. Loss: 7.928 |  Val. PPL: 2774.752\n",
      "Epoch: 04 | Time: 5m 27s\n",
      "\tTrain Loss: 5.678 | Train PPL: 292.292\n",
      "\t Val. Loss: 8.093 |  Val. PPL: 3273.009\n"
     ]
    }
   ],
   "source": [
    "N_EPOCHS = 5\n",
    "CLIP = 1\n",
    "\n",
    "best_valid_loss = float('inf')\n",
    "\n",
    "for epoch in range(N_EPOCHS):\n",
    "    \n",
    "    start_time = time.time()\n",
    "    \n",
    "    train_loss = train(model, train_iterator, optimizer, criterion, CLIP)\n",
    "    valid_loss = evaluate(model, valid_iterator, criterion)\n",
    "    \n",
    "    end_time = time.time()\n",
    "    \n",
    "    epoch_mins, epoch_secs = epoch_time(start_time, end_time)\n",
    "    \n",
    "    if valid_loss < best_valid_loss:\n",
    "        best_valid_loss = valid_loss\n",
    "        torch.save(model.state_dict(), 'sgdd_vanila_encoder_decoder.pt')\n",
    "    \n",
    "    print(f'Epoch: {epoch+1:02} | Time: {epoch_mins}m {epoch_secs}s')\n",
    "    print(f'\\tTrain Loss: {train_loss:.3f} | Train PPL: {math.exp(train_loss):7.3f}')\n",
    "    print(f'\\t Val. Loss: {valid_loss:.3f} |  Val. PPL: {math.exp(valid_loss):7.3f}')"
   ]
  },
  {
   "cell_type": "markdown",
   "metadata": {
    "id": "zJm2KZKW9ejI"
   },
   "source": [
    "Finally, we test the model on the test set using these \"best\" parameters."
   ]
  },
  {
   "cell_type": "code",
   "execution_count": null,
   "metadata": {
    "ExecuteTime": {
     "start_time": "2021-01-26T11:32:53.893Z"
    },
    "colab": {
     "base_uri": "https://localhost:8080/"
    },
    "id": "0ZlTvUHI9ejI",
    "outputId": "234f2bad-6c58-4d12-80ff-905c250d4e2e"
   },
   "outputs": [],
   "source": [
    "model.load_state_dict(torch.load('tut3_vanila_encoder_decoder_model.pt'))\n",
    "\n",
    "test_loss = evaluate(model, test_iterator, criterion)\n",
    "\n",
    "print(f'| Test Loss: {test_loss:.3f} | Test PPL: {math.exp(test_loss):7.3f} |')"
   ]
  },
  {
   "cell_type": "markdown",
   "metadata": {
    "id": "seTMu4Mj9ejK"
   },
   "source": [
    "We've improved on the previous model, but this came at the cost of doubling the training time.\n",
    "\n",
    "Next, we'll be using the same architecture but using a few tricks that are applicable to all RNN architectures - packed padded sequences and masking. We'll also implement code which will allow us to look at what words in the input the RNN is paying attention to when decoding the output. Check this [Notebook](https://colab.research.google.com/github/bentrevett/pytorch-seq2seq/blob/master/4%20-%20Packed%20Padded%20Sequences%2C%20Masking%2C%20Inference%20and%20BLEU.ipynb) "
   ]
  }
 ],
 "metadata": {
  "accelerator": "GPU",
  "colab": {
   "collapsed_sections": [],
   "name": "Dialogue -Neural Machine Translation by Jointly Learning to Align and Translate.ipynb",
   "provenance": []
  },
  "kernelspec": {
   "display_name": "pytorch",
   "language": "python",
   "name": "pytorch"
  },
  "language_info": {
   "codemirror_mode": {
    "name": "ipython",
    "version": 3
   },
   "file_extension": ".py",
   "mimetype": "text/x-python",
   "name": "python",
   "nbconvert_exporter": "python",
   "pygments_lexer": "ipython3",
   "version": "3.8.5"
  },
  "varInspector": {
   "cols": {
    "lenName": 16,
    "lenType": 16,
    "lenVar": 40
   },
   "kernels_config": {
    "python": {
     "delete_cmd_postfix": "",
     "delete_cmd_prefix": "del ",
     "library": "var_list.py",
     "varRefreshCmd": "print(var_dic_list())"
    },
    "r": {
     "delete_cmd_postfix": ") ",
     "delete_cmd_prefix": "rm(",
     "library": "var_list.r",
     "varRefreshCmd": "cat(var_dic_list()) "
    }
   },
   "types_to_exclude": [
    "module",
    "function",
    "builtin_function_or_method",
    "instance",
    "_Feature"
   ],
   "window_display": false
  }
 },
 "nbformat": 4,
 "nbformat_minor": 1
}
