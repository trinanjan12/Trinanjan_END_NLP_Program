{
 "cells": [
  {
   "cell_type": "code",
   "execution_count": 40,
   "metadata": {},
   "outputs": [],
   "source": [
    "import pickle"
   ]
  },
  {
   "cell_type": "code",
   "execution_count": 41,
   "metadata": {},
   "outputs": [],
   "source": [
    "f = open('./english_python_data.txt')\n",
    "code_list = []\n",
    "code_part = []\n",
    "str = \"write a\"\n",
    "for x in f:\n",
    "    if(str in x.lower()):\n",
    "        code_list.append(code_part)\n",
    "        code_part = []\n",
    "        code_part.append(x)\n",
    "        \n",
    "    else:\n",
    "        code_part.append(x)\n",
    "code_list = code_list[1:]"
   ]
  },
  {
   "cell_type": "code",
   "execution_count": 42,
   "metadata": {},
   "outputs": [],
   "source": [
    "# getting obj and code for each of them\n",
    "python_codes = []\n",
    "for idx,c in enumerate(code_list):\n",
    "    l = len(c)\n",
    "    obj = \"\"\n",
    "    c_idx = 0\n",
    "    prev = \"#\"\n",
    "    while(prev == \"#\" and c_idx<l):\n",
    "        if c[c_idx][0] == \"#\":\n",
    "            obj += c[c_idx][1:]\n",
    "        if c[c_idx][0] == \"#\" or c[c_idx][0] == \"\\n\":\n",
    "            prev = \"#\"\n",
    "        else:\n",
    "            break\n",
    "        c_idx += 1\n",
    "    obj = obj.split(\" \")\n",
    "    if isinstance(obj[0], int):\n",
    "        obj = obj[1:]\n",
    "    obj = \" \".join(obj)\n",
    "    obj = obj.strip()\n",
    "\n",
    "    code = \"\"\n",
    "    space_length_list = []\n",
    "    for line in c[c_idx:]:\n",
    "        s_idx = 0\n",
    "        space_length = 0\n",
    "        if len(line.strip()) > 0:\n",
    "            while(line[s_idx] == \" \" or line[s_idx] == \"\\t\"):\n",
    "                if line[s_idx] == \" \":\n",
    "                    space_length += 1\n",
    "                else:\n",
    "                    space_length += 4\n",
    "                s_idx += 1\n",
    "\n",
    "        space_length_list.append(space_length)\n",
    "    space_length_set = sorted(set(space_length_list))\n",
    "    if idx == 413:\n",
    "        hello = space_length_list\n",
    "\n",
    "    for line_idx, line in enumerate(c[c_idx:]):\n",
    "        code_piece = line[space_length_list[line_idx]:]\n",
    "        indentation = \"    \" * space_length_set.index(space_length_list[line_idx])\n",
    "        if code_piece.strip() != \"\":\n",
    "            if indentation == \"\":\n",
    "                code += code_piece.strip() + \"\\n\"\n",
    "            else:\n",
    "                code += indentation + code_piece.strip() + \"\\n\"\n",
    "    if obj != \"\" and code != \"\":\n",
    "        python_codes.append({\"obj\":obj, \"code\":code})"
   ]
  },
  {
   "cell_type": "code",
   "execution_count": 43,
   "metadata": {},
   "outputs": [],
   "source": [
    "\n",
    "with open(\"./clean_python_dataset.pkl\", \"wb\") as f:\n",
    "    pickle.dump(python_codes, f)\n"
   ]
  },
  {
   "cell_type": "code",
   "execution_count": 38,
   "metadata": {},
   "outputs": [
    {
     "name": "stdout",
     "output_type": "stream",
     "text": [
      "def cal_cube_volume(side:float)->float:\n",
      "\treturn side**3\n",
      "\n"
     ]
    }
   ],
   "source": [
    "print(python_codes[230][\"code\"])"
   ]
  },
  {
   "cell_type": "code",
   "execution_count": 10,
   "metadata": {},
   "outputs": [
    {
     "data": {
      "text/plain": [
       "['#55 write a  program to find LCM\\n',\n",
       " '\\n',\n",
       " 'def lcm(x, y):  \\n',\n",
       " '   if x > y:  \\n',\n",
       " '       greater = x  \\n',\n",
       " '   else:  \\n',\n",
       " '       greater = y  \\n',\n",
       " '  while(True):  \\n',\n",
       " '       if((greater % x == 0) and (greater % y == 0)):  \\n',\n",
       " '           lcm = greater  \\n',\n",
       " '           break  \\n',\n",
       " '       greater += 1  \\n',\n",
       " '   return lcm  \\n',\n",
       " '  \\n',\n",
       " '  \\n',\n",
       " 'num1 = int(input(\"Enter first number: \"))  \\n',\n",
       " 'num2 = int(input(\"Enter second number: \"))  \\n',\n",
       " 'print(\"The L.C.M. of\", num1,\"and\", num2,\"is\", lcm(num1, num2)) \\n',\n",
       " '\\n']"
      ]
     },
     "execution_count": 10,
     "metadata": {},
     "output_type": "execute_result"
    }
   ],
   "source": [
    "code_list[413]"
   ]
  },
  {
   "cell_type": "code",
   "execution_count": 14,
   "metadata": {},
   "outputs": [
    {
     "data": {
      "text/plain": [
       "[0, 3, 7, 3, 7, 2, 7, 11, 11, 7, 3, 0, 0, 0, 0, 0, 0]"
      ]
     },
     "execution_count": 14,
     "metadata": {},
     "output_type": "execute_result"
    }
   ],
   "source": [
    "hello"
   ]
  },
  {
   "cell_type": "code",
   "execution_count": null,
   "metadata": {},
   "outputs": [],
   "source": []
  }
 ],
 "metadata": {
  "kernelspec": {
   "display_name": "Python 3",
   "language": "python",
   "name": "python3"
  },
  "language_info": {
   "codemirror_mode": {
    "name": "ipython",
    "version": 3
   },
   "file_extension": ".py",
   "mimetype": "text/x-python",
   "name": "python",
   "nbconvert_exporter": "python",
   "pygments_lexer": "ipython3",
   "version": "3.8.5"
  }
 },
 "nbformat": 4,
 "nbformat_minor": 4
}
