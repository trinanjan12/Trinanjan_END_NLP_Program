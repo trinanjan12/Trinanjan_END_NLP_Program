{
 "cells": [
  {
   "cell_type": "markdown",
   "metadata": {},
   "source": [
    "# Todo\n",
    "- [x] add joblib while creating example --> not working as expected\n",
    "- [x] the vocab object is giving wrong shape"
   ]
  },
  {
   "cell_type": "code",
   "execution_count": null,
   "metadata": {
    "ExecuteTime": {
     "end_time": "2021-01-22T03:00:08.242194Z",
     "start_time": "2021-01-22T03:00:08.239195Z"
    }
   },
   "outputs": [],
   "source": [
    "# from math import sqrt\n",
    "# from joblib import Parallel, delayed\n",
    "# import time\n",
    "\n",
    "# # single-core code\n",
    "# test = 1000000\n",
    "\n",
    "# start_time = time.time()\n",
    "# sqroots_1 = [sqrt(i ** 2) for i in range(test)]  \n",
    "# end_time = time.time()\n",
    "# print((end_time-start_time))\n",
    "\n",
    "# start_time = time.time()\n",
    "# sqroots_2 = Parallel(n_jobs=2)(delayed(sqrt)(i**2) for i in range(test))\n",
    "# end_time = time.time()\n",
    "# print((end_time-start_time))\n"
   ]
  },
  {
   "cell_type": "markdown",
   "metadata": {},
   "source": [
    "# Neural Machine Translation by Jointly Learning to Align and Translate\n",
    "\n",
    "In this third notebook on sequence-to-sequence models using PyTorch and TorchText, we'll be implementing the model from [Neural Machine Translation by Jointly Learning to Align and Translate](https://arxiv.org/abs/1409.0473) to building an language to language transformation model using the collection of copyright free books aligned by Andras Farkas, which are available from http://www.farkastranslations.com/bilingual_books.php\n",
    "\n",
    "## Introduction\n",
    "\n",
    "Here is the general encoder-decoder model:\n",
    "\n",
    "![](https://github.com/bentrevett/pytorch-seq2seq/blob/master/assets/seq2seq1.png?raw=1)\n",
    "\n",
    "In the previous model, our architecture was set-up in a way to reduce \"information compression\" by explicitly passing the context vector, $z$, to the decoder at every time-step and by passing both the context vector and embedded input word, $d(y_t)$, along with the hidden state, $s_t$, to the linear layer, $f$, to make a prediction.\n",
    "\n",
    "![](https://github.com/bentrevett/pytorch-seq2seq/blob/master/assets/seq2seq7.png?raw=1)\n",
    "\n",
    "Even though we have reduced some of this compression, our context vector still needs to contain all of the information about the source sentence. The model implemented in this notebook avoids this compression by allowing the decoder to look at the entire source sentence (via its hidden states) at each decoding step! How does it do this? It uses *attention*. \n",
    "\n",
    "Attention works by first, calculating an attention vector, $a$, that is the length of the source sentence. The attention vector has the property that each element is between 0 and 1, and the entire vector sums to 1. We then calculate a weighted sum of our source sentence hidden states, $H$, to get a weighted source vector, $w$. \n",
    "\n",
    "$$w = \\sum_{i}a_ih_i$$\n",
    "\n",
    "We calculate a new weighted source vector every time-step when decoding, using it as input to our decoder RNN as well as the linear layer to make a prediction. We'll explain how to do all of this during the session.\n"
   ]
  },
  {
   "cell_type": "markdown",
   "metadata": {},
   "source": [
    "## Import Statements"
   ]
  },
  {
   "cell_type": "code",
   "execution_count": null,
   "metadata": {
    "ExecuteTime": {
     "end_time": "2021-01-22T03:00:30.159328Z",
     "start_time": "2021-01-22T03:00:30.144065Z"
    }
   },
   "outputs": [],
   "source": [
    "import torch\n",
    "import torch.nn as nn\n",
    "import torch.optim as optim\n",
    "import torch.nn.functional as F\n",
    "\n",
    "from torchtext.datasets import Multi30k\n",
    "from torchtext import data\n",
    "from torchtext.data import Field, BucketIterator\n",
    "\n",
    "import spacy\n",
    "import numpy as np\n",
    "\n",
    "import random\n",
    "import math\n",
    "import time\n",
    "import json\n",
    "from tqdm import tqdm as tqdm"
   ]
  },
  {
   "cell_type": "markdown",
   "metadata": {},
   "source": [
    "Set the random seeds for reproducability."
   ]
  },
  {
   "cell_type": "code",
   "execution_count": null,
   "metadata": {
    "ExecuteTime": {
     "end_time": "2021-01-22T03:00:30.637134Z",
     "start_time": "2021-01-22T03:00:30.633293Z"
    }
   },
   "outputs": [],
   "source": [
    "SEED = 1234\n",
    "\n",
    "random.seed(SEED)\n",
    "np.random.seed(SEED)\n",
    "torch.manual_seed(SEED)\n",
    "torch.cuda.manual_seed(SEED)\n",
    "torch.backends.cudnn.deterministic = True"
   ]
  },
  {
   "cell_type": "code",
   "execution_count": null,
   "metadata": {
    "ExecuteTime": {
     "end_time": "2021-01-22T03:00:30.828990Z",
     "start_time": "2021-01-22T03:00:30.826503Z"
    },
    "scrolled": true
   },
   "outputs": [],
   "source": [
    "# downloading spacy english and italian\n",
    "# !python3 -m spacy download it_core_news_sm\n",
    "# !python -m spacy download en_core_web_sm"
   ]
  },
  {
   "cell_type": "markdown",
   "metadata": {},
   "source": [
    "loading english and italian spacy models"
   ]
  },
  {
   "cell_type": "code",
   "execution_count": null,
   "metadata": {
    "ExecuteTime": {
     "end_time": "2021-01-22T03:00:32.430962Z",
     "start_time": "2021-01-22T03:00:31.394125Z"
    }
   },
   "outputs": [],
   "source": [
    "# spacy english and italian\n",
    "spacy_it = spacy.load(\"it_core_news_sm\")\n",
    "spacy_en = spacy.load(\"en_core_web_sm\")"
   ]
  },
  {
   "cell_type": "markdown",
   "metadata": {},
   "source": [
    "## Previewing the Dataset\n",
    "\n",
    "Link to the dataset\n",
    "\n",
    "http://opus.nlpl.eu/Books.php\n",
    "\n",
    "http://opus.nlpl.eu/"
   ]
  },
  {
   "cell_type": "code",
   "execution_count": null,
   "metadata": {
    "ExecuteTime": {
     "end_time": "2021-01-22T03:00:32.440287Z",
     "start_time": "2021-01-22T03:00:32.438553Z"
    }
   },
   "outputs": [],
   "source": [
    "# using translate-toolkit to use tmx file\n",
    "# !pip3 install translate-toolkit"
   ]
  },
  {
   "cell_type": "code",
   "execution_count": null,
   "metadata": {
    "ExecuteTime": {
     "end_time": "2021-01-22T03:00:33.199547Z",
     "start_time": "2021-01-22T03:00:33.002763Z"
    }
   },
   "outputs": [],
   "source": [
    "from translate.storage.tmx import tmxfile\n",
    "with open(\"./../datasets/Multilingual Datasets for Chatbot Training/en-it.tmx\", 'rb') as fin:\n",
    "    tmx_file = tmxfile(fin, 'en', 'it')"
   ]
  },
  {
   "cell_type": "code",
   "execution_count": null,
   "metadata": {
    "ExecuteTime": {
     "end_time": "2021-01-22T03:00:34.046573Z",
     "start_time": "2021-01-22T03:00:33.590974Z"
    }
   },
   "outputs": [],
   "source": [
    "language_pair_list = []\n",
    "for node in tmx_file.unit_iter():\n",
    "    language_pair_list.append([node.source, node.target])\n",
    "len(language_pair_list)"
   ]
  },
  {
   "cell_type": "code",
   "execution_count": null,
   "metadata": {
    "ExecuteTime": {
     "end_time": "2021-01-22T03:00:34.153097Z",
     "start_time": "2021-01-22T03:00:34.150731Z"
    }
   },
   "outputs": [],
   "source": [
    "language_pair_list[4]"
   ]
  },
  {
   "cell_type": "markdown",
   "metadata": {},
   "source": [
    "## Defining the fields"
   ]
  },
  {
   "cell_type": "markdown",
   "metadata": {},
   "source": [
    "Question and Answer are standard Field object, where we have decided to use the spaCy tokenizer and convert all the text to lower‐ case."
   ]
  },
  {
   "cell_type": "code",
   "execution_count": null,
   "metadata": {
    "ExecuteTime": {
     "end_time": "2021-01-22T03:00:34.359307Z",
     "start_time": "2021-01-22T03:00:34.356756Z"
    }
   },
   "outputs": [],
   "source": [
    "English = Field(sequential = True,\n",
    "                      use_vocab=True,\n",
    "                      tokenize = spacy_en,\n",
    "                      include_lengths=True,\n",
    "                      init_token = '<sos>',\n",
    "                      eos_token = '<eos>')\n",
    "\n",
    "Italian = Field(sequential = True,\n",
    "                    use_vocab=True,\n",
    "                    tokenize =spacy_it,\n",
    "                    include_lengths=True,\n",
    "                    init_token = '<sos>',\n",
    "                    eos_token = '<eos>')"
   ]
  },
  {
   "cell_type": "markdown",
   "metadata": {},
   "source": [
    "Having defined those fields, we now need to produce a list that maps them onto the list of rows that are in the list quescontext_ans_pairs"
   ]
  },
  {
   "cell_type": "code",
   "execution_count": null,
   "metadata": {
    "ExecuteTime": {
     "end_time": "2021-01-22T03:00:36.091532Z",
     "start_time": "2021-01-22T03:00:36.087938Z"
    }
   },
   "outputs": [],
   "source": [
    "fields = [('english', English),('italian',Italian)]"
   ]
  },
  {
   "cell_type": "code",
   "execution_count": null,
   "metadata": {
    "ExecuteTime": {
     "end_time": "2021-01-21T04:06:01.451265Z",
     "start_time": "2021-01-21T04:06:01.419922Z"
    }
   },
   "outputs": [],
   "source": [
    "from joblib import Parallel, delayed\n",
    "# Parallel(n_jobs=-1, verbose=5)(delayed(data.Example.fromlist([language_pair_list[j][0],language_pair_list[j][1]], fields)) for i in tqdm(range(len(language_pair_list)))]"
   ]
  },
  {
   "cell_type": "code",
   "execution_count": null,
   "metadata": {
    "ExecuteTime": {
     "start_time": "2021-01-21T04:08:19.554Z"
    }
   },
   "outputs": [],
   "source": [
    "example = Parallel(n_jobs=1000)(delayed(data.Example.fromlist)([language_pair_list[i][0],language_pair_list[i][1]], fields) for i in tqdm(range(len(language_pair_list))))"
   ]
  },
  {
   "cell_type": "code",
   "execution_count": null,
   "metadata": {
    "ExecuteTime": {
     "end_time": "2021-01-08T17:01:49.173838Z",
     "start_time": "2021-01-08T16:55:35.104877Z"
    }
   },
   "outputs": [],
   "source": [
    "# example = [data.Example.fromlist([language_pair_list[i][0],language_pair_list[i][1]], fields) for i in tqdm(range(len(language_pair_list)))] "
   ]
  },
  {
   "cell_type": "code",
   "execution_count": null,
   "metadata": {
    "ExecuteTime": {
     "end_time": "2021-01-08T17:02:16.919712Z",
     "start_time": "2021-01-08T17:02:01.134273Z"
    }
   },
   "outputs": [],
   "source": [
    "import pickle\n",
    "with open('./enit_data_example.pkl', 'wb') as f:\n",
    "    pickle.dump(example,f)"
   ]
  },
  {
   "cell_type": "code",
   "execution_count": null,
   "metadata": {
    "ExecuteTime": {
     "end_time": "2021-01-22T03:00:47.583714Z",
     "start_time": "2021-01-22T03:00:47.270081Z"
    }
   },
   "outputs": [],
   "source": [
    "import pickle\n",
    "with open('./enit_data_example.pkl', 'rb') as f:\n",
    "    example = pickle.load(f)"
   ]
  },
  {
   "cell_type": "code",
   "execution_count": null,
   "metadata": {
    "ExecuteTime": {
     "end_time": "2021-01-22T03:00:50.084549Z",
     "start_time": "2021-01-22T03:00:50.073509Z"
    }
   },
   "outputs": [],
   "source": [
    "index = random.randint(0,1000)\n",
    "example[index].english,example[index].italian"
   ]
  },
  {
   "cell_type": "markdown",
   "metadata": {},
   "source": [
    "## Creating dataset"
   ]
  },
  {
   "cell_type": "code",
   "execution_count": null,
   "metadata": {
    "ExecuteTime": {
     "end_time": "2021-01-22T03:00:53.758766Z",
     "start_time": "2021-01-22T03:00:53.754847Z"
    }
   },
   "outputs": [],
   "source": [
    "# creating dataset\n",
    "LangDataset = data.Dataset(example, fields)"
   ]
  },
  {
   "cell_type": "markdown",
   "metadata": {},
   "source": [
    "Finally, we can split into training, testing, and validation sets by using the split() method:"
   ]
  },
  {
   "cell_type": "code",
   "execution_count": null,
   "metadata": {
    "ExecuteTime": {
     "end_time": "2021-01-22T03:00:55.512846Z",
     "start_time": "2021-01-22T03:00:55.466238Z"
    }
   },
   "outputs": [],
   "source": [
    "(train, valid, test) = LangDataset.split(split_ratio=[0.70, 0.15, 0.15], random_state=random.seed(SEED))"
   ]
  },
  {
   "cell_type": "code",
   "execution_count": null,
   "metadata": {
    "ExecuteTime": {
     "end_time": "2021-01-22T03:00:55.852895Z",
     "start_time": "2021-01-22T03:00:55.846961Z"
    }
   },
   "outputs": [],
   "source": [
    "(len(train), len(valid), len(test))"
   ]
  },
  {
   "cell_type": "markdown",
   "metadata": {},
   "source": [
    "An example from the dataset:"
   ]
  },
  {
   "cell_type": "code",
   "execution_count": null,
   "metadata": {
    "ExecuteTime": {
     "end_time": "2021-01-22T03:00:56.551338Z",
     "start_time": "2021-01-22T03:00:56.542910Z"
    }
   },
   "outputs": [],
   "source": [
    "index = random.randint(0,1000)\n",
    "vars(train.examples[index])"
   ]
  },
  {
   "cell_type": "markdown",
   "metadata": {},
   "source": [
    "## Data Augmentation\n",
    "copied from the repository of Woncoh1 https://github.com/woncoh1/END/blob/main/Assignment_Session_7_Sentiment_Analysis_using_LSTM_RNN.ipynb"
   ]
  },
  {
   "cell_type": "code",
   "execution_count": null,
   "metadata": {
    "ExecuteTime": {
     "end_time": "2021-01-22T03:00:59.311872Z",
     "start_time": "2021-01-22T03:00:58.241029Z"
    }
   },
   "outputs": [],
   "source": [
    "# import libraries and prepare sentence text\n",
    "import random\n",
    "# for back translation\n",
    "import google_trans_new\n",
    "from google_trans_new import google_translator\n",
    "# for word tokenization\n",
    "import nltk\n",
    "nltk.download('punkt')\n",
    "from nltk.tokenize import word_tokenize"
   ]
  },
  {
   "cell_type": "markdown",
   "metadata": {},
   "source": [
    "#### Back Translation"
   ]
  },
  {
   "cell_type": "code",
   "execution_count": null,
   "metadata": {
    "ExecuteTime": {
     "end_time": "2021-01-22T03:00:59.430395Z",
     "start_time": "2021-01-22T03:00:59.428350Z"
    }
   },
   "outputs": [],
   "source": [
    "# # translate a sentence to a random language,\n",
    "# # and translate back to original language\n",
    "\n",
    "# def back_translate(sentence, p=0.1, lang=\"en\"):\n",
    "#     sentence = [str(i) for i in sentence]\n",
    "#     # do nothing with probability of 1-p\n",
    "#     if random.uniform(0,1) > p:\n",
    "#         return sentence\n",
    "    \n",
    "#     # combine tokenized sentence into one string\n",
    "#     sentence = \" \".join(sentence)\n",
    "    \n",
    "#     # instantiate translator\n",
    "#     translator = google_translator()\n",
    "    \n",
    "#     # choose a target language\n",
    "#     available_langs = list(google_trans_new.LANGUAGES.keys())\n",
    "#     trans_lang = random.choice(available_langs)\n",
    "    \n",
    "#     # translate to the target language\n",
    "#     translations = translator.translate(sentence, lang_tgt=trans_lang)\n",
    "    \n",
    "#     # translate back to original language\n",
    "#     translations_en_random = translator.translate(translations, lang_src=trans_lang, lang_tgt=lang)\n",
    "    \n",
    "#     # select only one translation\n",
    "#     if len(translations_en_random) > 1:\n",
    "#         translations_en_random = translations_en_random[0]\n",
    "        \n",
    "#     return word_tokenize(translations_en_random)"
   ]
  },
  {
   "cell_type": "markdown",
   "metadata": {},
   "source": [
    "#### Random Deletion"
   ]
  },
  {
   "cell_type": "code",
   "execution_count": null,
   "metadata": {
    "ExecuteTime": {
     "end_time": "2021-01-22T03:01:00.093153Z",
     "start_time": "2021-01-22T03:01:00.088424Z"
    }
   },
   "outputs": [],
   "source": [
    "# randomly delete words from a sentence with a given probability\n",
    "\n",
    "def random_deletion(sentence, p=0.5): \n",
    "    # return if single word\n",
    "    if len(sentence) == 1: \n",
    "        return sentence\n",
    "    # delete words\n",
    "    remaining = list(filter(lambda x: random.uniform(0,1) > p, sentence)) \n",
    "    # if nothing left, sample a random word\n",
    "    if len(remaining) == 0: \n",
    "        return [random.choice(sentence)] \n",
    "    else:\n",
    "        return remaining"
   ]
  },
  {
   "cell_type": "markdown",
   "metadata": {},
   "source": [
    "#### Random Swap"
   ]
  },
  {
   "cell_type": "code",
   "execution_count": null,
   "metadata": {
    "ExecuteTime": {
     "end_time": "2021-01-22T03:01:01.022651Z",
     "start_time": "2021-01-22T03:01:01.009449Z"
    }
   },
   "outputs": [],
   "source": [
    "# randomly swap a pair of words in a sentence for a given # of times\n",
    "\n",
    "def random_swap(sentence, n=5): \n",
    "    if len(sentence) < 2:\n",
    "        return sentence\n",
    "    length = range(len(sentence)) \n",
    "    for _ in range(n):\n",
    "        idx1, idx2 = random.sample(length, 2)\n",
    "        sentence[idx1], sentence[idx2] = sentence[idx2], sentence[idx1] \n",
    "    return sentence"
   ]
  },
  {
   "cell_type": "markdown",
   "metadata": {},
   "source": [
    "#### Carry Out Data Augmentation"
   ]
  },
  {
   "cell_type": "code",
   "execution_count": null,
   "metadata": {
    "ExecuteTime": {
     "end_time": "2021-01-22T03:01:03.114551Z",
     "start_time": "2021-01-22T03:01:02.665053Z"
    }
   },
   "outputs": [],
   "source": [
    "for idx, example in tqdm(enumerate(train.examples)):\n",
    "#     example.english = back_translate(example.english, p=0.01, lang=\"en\")\n",
    "    example.english = random_deletion(example.english, p=0.1)\n",
    "    example.english = random_swap(example.english, n=1)\n",
    "#     example.italian = back_translate(example.italian, p=0.01, lang=\"it\")\n",
    "    example.italian = random_deletion(example.italian, p=0.1)\n",
    "    example.italian = random_swap(example.italian, n=1)"
   ]
  },
  {
   "cell_type": "code",
   "execution_count": null,
   "metadata": {
    "ExecuteTime": {
     "end_time": "2021-01-22T03:01:04.223104Z",
     "start_time": "2021-01-22T03:01:04.211628Z"
    }
   },
   "outputs": [],
   "source": [
    "train.examples[0].italian"
   ]
  },
  {
   "cell_type": "markdown",
   "metadata": {},
   "source": [
    "## Building Vocabulary"
   ]
  },
  {
   "cell_type": "code",
   "execution_count": null,
   "metadata": {
    "ExecuteTime": {
     "end_time": "2021-01-22T03:01:07.805392Z",
     "start_time": "2021-01-22T03:01:07.800641Z"
    }
   },
   "outputs": [],
   "source": [
    "import torchtext.vocab as vocab"
   ]
  },
  {
   "cell_type": "code",
   "execution_count": null,
   "metadata": {
    "ExecuteTime": {
     "end_time": "2021-01-22T03:01:10.159912Z",
     "start_time": "2021-01-22T03:01:08.288251Z"
    }
   },
   "outputs": [],
   "source": [
    "english_embeddings = vocab.Vectors(name = './wiki.simple.vec')\n",
    "italian_embeddings = vocab.Vectors(name = './cc.it.300.vec')"
   ]
  },
  {
   "cell_type": "code",
   "execution_count": null,
   "metadata": {
    "ExecuteTime": {
     "end_time": "2021-01-22T03:01:10.324474Z",
     "start_time": "2021-01-22T03:01:10.321935Z"
    }
   },
   "outputs": [],
   "source": [
    "english_embeddings.vectors.shape"
   ]
  },
  {
   "cell_type": "code",
   "execution_count": null,
   "metadata": {
    "ExecuteTime": {
     "end_time": "2021-01-22T03:01:10.885108Z",
     "start_time": "2021-01-22T03:01:10.430785Z"
    }
   },
   "outputs": [],
   "source": [
    "MAX_VOCAB_SIZE = 20000\n",
    "''' Use max of 25000 frequently occuring words to create vocabulary. Use pretrained fasttext embedding. Embedding of words that exist in the data but not in the\n",
    "dictionary are set using normal distribution.\n",
    "'''\n",
    "English.build_vocab(train,\n",
    "                        max_size = MAX_VOCAB_SIZE,\n",
    "                        vectors = english_embeddings,\n",
    "                        unk_init = torch.Tensor.normal_,\n",
    "                        min_freq = 2)\n",
    "Italian.build_vocab(train,\n",
    "                        max_size = MAX_VOCAB_SIZE,\n",
    "                        vectors = italian_embeddings,\n",
    "                        unk_init = torch.Tensor.normal_,\n",
    "                        min_freq = 2)"
   ]
  },
  {
   "cell_type": "code",
   "execution_count": null,
   "metadata": {
    "ExecuteTime": {
     "end_time": "2021-01-22T03:01:10.993565Z",
     "start_time": "2021-01-22T03:01:10.991039Z"
    }
   },
   "outputs": [],
   "source": [
    "# get the vocab instances\n",
    "english_vocab = English.vocab\n",
    "italian_vocab = Italian.vocab\n",
    "\n",
    "english_embedding_vector = english_vocab.vectors\n",
    "italian_embedding_vector = italian_vocab.vectors\n",
    "print(english_embedding_vector.shape)\n",
    "print(italian_embedding_vector.shape)"
   ]
  },
  {
   "cell_type": "code",
   "execution_count": null,
   "metadata": {
    "ExecuteTime": {
     "end_time": "2021-01-22T03:01:13.342213Z",
     "start_time": "2021-01-22T03:01:13.284562Z"
    }
   },
   "outputs": [],
   "source": [
    "vars(english_vocab)"
   ]
  },
  {
   "cell_type": "markdown",
   "metadata": {},
   "source": [
    "By default, torchtext will add two more special tokens, <unk> for unknown words and <pad>, a padding token that will be used to pad all our text to roughly the same size to help with efficient batching on the GPU."
   ]
  },
  {
   "cell_type": "code",
   "execution_count": null,
   "metadata": {
    "ExecuteTime": {
     "end_time": "2021-01-22T03:01:15.033126Z",
     "start_time": "2021-01-22T03:01:15.009641Z"
    }
   },
   "outputs": [],
   "source": [
    "print('Size of english vocab : ', len(english_vocab))\n",
    "print('Size of italian vocab : ', len(italian_vocab))\n",
    "print('Top 10 words appeared in english:', list(english_vocab.freqs.most_common(10)))\n",
    "print(\"Top 10 words appeared in italian:\", list(italian_vocab.freqs.most_common(10)))"
   ]
  },
  {
   "cell_type": "markdown",
   "metadata": {},
   "source": [
    "## Create the iterators"
   ]
  },
  {
   "cell_type": "code",
   "execution_count": null,
   "metadata": {
    "ExecuteTime": {
     "end_time": "2021-01-22T03:01:17.639186Z",
     "start_time": "2021-01-22T03:01:17.609868Z"
    }
   },
   "outputs": [],
   "source": [
    "device = torch.device(\"cuda\" if torch.cuda.is_available() else \"cpu\")"
   ]
  },
  {
   "cell_type": "code",
   "execution_count": null,
   "metadata": {
    "ExecuteTime": {
     "end_time": "2021-01-22T03:01:18.045674Z",
     "start_time": "2021-01-22T03:01:18.043203Z"
    }
   },
   "outputs": [],
   "source": [
    "BATCH_SIZE = 8\n",
    "train_iterator, valid_iterator, test_iterator = data.BucketIterator.splits((train, valid, test),\n",
    "                                                            batch_size = BATCH_SIZE, \n",
    "                                                            sort_key = lambda x: len(x.english),\n",
    "                                                            sort_within_batch=True,\n",
    "                                                            device = device)"
   ]
  },
  {
   "cell_type": "markdown",
   "metadata": {},
   "source": [
    "Save the vocabulary for later use"
   ]
  },
  {
   "cell_type": "code",
   "execution_count": null,
   "metadata": {
    "ExecuteTime": {
     "end_time": "2021-01-22T03:01:20.475429Z",
     "start_time": "2021-01-22T03:01:20.473189Z"
    }
   },
   "outputs": [],
   "source": [
    "#TODO not able to save the vocab object\n",
    "# import os, pickle\n",
    "# with open('english_tokenizer.pkl', 'wb') as tokens: \n",
    "#     pickle.dump(english_vocab.stoi, tokens)\n",
    "# with open(\"italian_tokenizer.pkl\", \"wb\") as tokens:\n",
    "#     pickle.dump(italian_vocab.stoi, tokens)"
   ]
  },
  {
   "cell_type": "markdown",
   "metadata": {},
   "source": [
    "## Building the Seq2Seq Model\n",
    "\n",
    "### Encoder\n",
    "\n",
    "The encoder is similar to the previous one, with the multi-layer LSTM swapped for a single-layer GRU. We also don't pass the dropout as an argument to the GRU as that dropout is used between each layer of a multi-layered RNN. As we only have a single layer, PyTorch will display a warning if we try and use pass a dropout value to it.\n",
    "\n",
    "Another thing to note about the GRU is that it only requires and returns a hidden state, there is no cell state like in the LSTM.\n",
    "\n",
    "$$\\begin{align*}\n",
    "h_t &= \\text{GRU}(e(x_t), h_{t-1})\\\\\n",
    "(h_t, c_t) &= \\text{LSTM}(e(x_t), h_{t-1}, c_{t-1})\\\\\n",
    "h_t &= \\text{RNN}(e(x_t), h_{t-1})\n",
    "\\end{align*}$$\n",
    "\n",
    "From the equations above, it looks like the RNN and the GRU are identical. Inside the GRU, however, is a number of *gating mechanisms* that control the information flow in to and out of the hidden state (similar to an LSTM). Again, for more info, check out [this](https://colah.github.io/posts/2015-08-Understanding-LSTMs/) excellent post. \n",
    "\n",
    "The rest of the encoder should be very familar from the last session, it takes in a sequence, $X = \\{x_1, x_2, ... , x_T\\}$, passes it through the embedding layer, recurrently calculates hidden states, $H = \\{h_1, h_2, ..., h_T\\}$, and returns a context vector (the final hidden state), $z=h_T$.\n",
    "\n",
    "$$h_t = \\text{EncoderGRU}(e(x_t), h_{t-1})$$\n",
    "\n",
    "This is identical to the encoder of the general seq2seq model, with all the \"magic\" happening inside the GRU (green).\n",
    "\n",
    "![](https://github.com/bentrevett/pytorch-seq2seq/blob/master/assets/seq2seq5.png?raw=1)"
   ]
  },
  {
   "cell_type": "code",
   "execution_count": null,
   "metadata": {
    "ExecuteTime": {
     "end_time": "2021-01-22T03:01:34.847462Z",
     "start_time": "2021-01-22T03:01:34.835748Z"
    }
   },
   "outputs": [],
   "source": [
    "class Encoder(nn.Module):\n",
    "    def __init__(self, input_dim, emb_dim, hid_dim, dropout):\n",
    "        super().__init__()\n",
    "\n",
    "        self.hid_dim = hid_dim\n",
    "        \n",
    "        self.embedding = nn.Embedding(input_dim, emb_dim) #no dropout as only one layer!\n",
    "        \n",
    "        self.rnn = nn.GRU(emb_dim, hid_dim)\n",
    "        \n",
    "        self.dropout = nn.Dropout(dropout)\n",
    "        \n",
    "    def forward(self, src):\n",
    "        \n",
    "        #src = [src len, batch size]\n",
    "        \n",
    "        embedded = self.dropout(self.embedding(src))\n",
    "        \n",
    "        #embedded = [src len, batch size, emb dim]\n",
    "        \n",
    "        outputs, hidden = self.rnn(embedded) #no cell state!\n",
    "        \n",
    "        #outputs = [src len, batch size, hid dim * n directions]\n",
    "        #hidden = [n layers * n directions, batch size, hid dim]\n",
    "        \n",
    "        #outputs are always from the top hidden layer\n",
    "        \n",
    "        return hidden"
   ]
  },
  {
   "cell_type": "markdown",
   "metadata": {},
   "source": [
    "## Decoder\n",
    "\n",
    "The decoder is where the implementation differs significantly from the previous model and we alleviate some of the information compression.\n",
    "\n",
    "Instead of the GRU in the decoder taking just the embedded target token, $d(y_t)$ and the previous hidden state $s_{t-1}$ as inputs, it also takes the context vector $z$. \n",
    "\n",
    "$$s_t = \\text{DecoderGRU}(d(y_t), s_{t-1}, z)$$\n",
    "\n",
    "Note how this context vector, $z$, does not have a $t$ subscript, meaning we re-use the same context vector returned by the encoder for every time-step in the decoder. \n",
    "\n",
    "Before, we predicted the next token, $\\hat{y}_{t+1}$, with the linear layer, $f$, only using the top-layer decoder hidden state at that time-step, $s_t$, as $\\hat{y}_{t+1}=f(s_t^L)$. Now, we also pass the embedding of current token, $d(y_t)$ and the context vector, $z$ to the linear layer.\n",
    "\n",
    "$$\\hat{y}_{t+1} = f(d(y_t), s_t, z)$$\n",
    "\n",
    "Thus, our decoder now looks something like this:\n",
    "\n",
    "![](https://github.com/bentrevett/pytorch-seq2seq/blob/master/assets/seq2seq6.png?raw=1)\n",
    "\n",
    "Note, the initial hidden state, $s_0$, is still the context vector, $z$, so when generating the first token we are actually inputting two identical context vectors into the GRU.\n",
    "\n",
    "How do these two changes reduce the information compression? Well, hypothetically the decoder hidden states, $s_t$, no longer need to contain information about the source sequence as it is always available as an input. Thus, it only needs to contain information about what tokens it has generated so far. The addition of $y_t$ to the linear layer also means this layer can directly see what the token is, without having to get this information from the hidden state. \n",
    "\n",
    "However, this hypothesis is just a hypothesis, it is impossible to determine how the model actually uses the information provided to it (don't listen to anyone that says differently). Nevertheless, it is a solid intuition and the results seem to indicate that this modifications are a good idea!\n",
    "\n",
    "Within the implementation, we will pass $d(y_t)$ and $z$ to the GRU by concatenating them together, so the input dimensions to the GRU are now `emb_dim + hid_dim` (as context vector will be of size `hid_dim`). The linear layer will take $d(y_t), s_t$ and $z$ also by concatenating them together, hence the input dimensions are now `emb_dim + hid_dim*2`. We also don't pass a value of dropout to the GRU as it only uses a single layer.\n",
    "\n",
    "`forward` now takes a `context` argument. Inside of `forward`, we concatenate $y_t$ and $z$ as `emb_con` before feeding to the GRU, and we concatenate $d(y_t)$, $s_t$ and $z$ together as `output` before feeding it through the linear layer to receive our predictions, $\\hat{y}_{t+1}$."
   ]
  },
  {
   "cell_type": "code",
   "execution_count": null,
   "metadata": {
    "ExecuteTime": {
     "end_time": "2021-01-22T03:01:35.263280Z",
     "start_time": "2021-01-22T03:01:35.259221Z"
    }
   },
   "outputs": [],
   "source": [
    "class Decoder(nn.Module):\n",
    "    def __init__(self, output_dim, emb_dim, hid_dim, dropout):\n",
    "        super().__init__()\n",
    "\n",
    "        self.hid_dim = hid_dim\n",
    "        self.output_dim = output_dim\n",
    "        \n",
    "        self.embedding = nn.Embedding(output_dim, emb_dim)\n",
    "        \n",
    "        self.rnn = nn.GRU(emb_dim + hid_dim, hid_dim)\n",
    "        \n",
    "        self.fc_out = nn.Linear(emb_dim + hid_dim * 2, output_dim)\n",
    "        \n",
    "        self.dropout = nn.Dropout(dropout)\n",
    "        \n",
    "    def forward(self, input, hidden, context):\n",
    "        \n",
    "        #input = [batch size]\n",
    "        #hidden = [n layers * n directions, batch size, hid dim]\n",
    "        #context = [n layers * n directions, batch size, hid dim]\n",
    "        \n",
    "        #n layers and n directions in the decoder will both always be 1, therefore:\n",
    "        #hidden = [1, batch size, hid dim]\n",
    "        #context = [1, batch size, hid dim]\n",
    "        \n",
    "        input = input.unsqueeze(0)\n",
    "        \n",
    "        #input = [1, batch size]\n",
    "        \n",
    "        embedded = self.dropout(self.embedding(input))\n",
    "        \n",
    "        #embedded = [1, batch size, emb dim]\n",
    "                \n",
    "        emb_con = torch.cat((embedded, context), dim = 2)\n",
    "            \n",
    "        #emb_con = [1, batch size, emb dim + hid dim]\n",
    "            \n",
    "        output, hidden = self.rnn(emb_con, hidden)\n",
    "        \n",
    "        #output = [seq len, batch size, hid dim * n directions]\n",
    "        #hidden = [n layers * n directions, batch size, hid dim]\n",
    "        \n",
    "        #seq len, n layers and n directions will always be 1 in the decoder, therefore:\n",
    "        #output = [1, batch size, hid dim]\n",
    "        #hidden = [1, batch size, hid dim]\n",
    "        \n",
    "        output = torch.cat((embedded.squeeze(0), hidden.squeeze(0), context.squeeze(0)), \n",
    "                           dim = 1)\n",
    "        \n",
    "        #output = [batch size, emb dim + hid dim * 2]\n",
    "        \n",
    "        prediction = self.fc_out(output)\n",
    "        \n",
    "        #prediction = [batch size, output dim]\n",
    "        \n",
    "        return prediction, hidden"
   ]
  },
  {
   "cell_type": "markdown",
   "metadata": {
    "ExecuteTime": {
     "end_time": "2021-01-07T18:42:50.775364Z",
     "start_time": "2021-01-07T18:42:50.750915Z"
    }
   },
   "source": [
    "## Seq2Seq Model\n",
    "\n",
    "Putting the encoder and decoder together, we get:\n",
    "\n",
    "![](https://github.com/bentrevett/pytorch-seq2seq/blob/master/assets/seq2seq7.png?raw=1)\n",
    "\n",
    "Again, in this implementation we need to ensure the hidden dimensions in both the encoder and the decoder are the same.\n",
    "\n",
    "Briefly going over all of the steps:\n",
    "- the `outputs` tensor is created to hold all predictions, $\\hat{Y}$\n",
    "- the source sequence, $X$, is fed into the encoder to receive a `context` vector\n",
    "- the initial decoder hidden state is set to be the `context` vector, $s_0 = z = h_T$\n",
    "- we use a batch of `<sos>` tokens as the first `input`, $y_1$\n",
    "- we then decode within a loop:\n",
    "  - inserting the input token $y_t$, previous hidden state, $s_{t-1}$, and the context vector, $z$, into the decoder\n",
    "  - receiving a prediction, $\\hat{y}_{t+1}$, and a new hidden state, $s_t$\n",
    "  - we then decide if we are going to teacher force or not, setting the next input as appropriate (either the ground truth next token in the target sequence or the highest predicted next token)"
   ]
  },
  {
   "cell_type": "code",
   "execution_count": null,
   "metadata": {
    "ExecuteTime": {
     "end_time": "2021-01-22T03:50:27.940167Z",
     "start_time": "2021-01-22T03:50:27.935759Z"
    }
   },
   "outputs": [],
   "source": [
    "class Seq2Seq(nn.Module):\n",
    "    def __init__(self, encoder, decoder, device):\n",
    "        super().__init__()\n",
    "        \n",
    "        self.encoder = encoder\n",
    "        self.decoder = decoder\n",
    "        self.device = device\n",
    "        \n",
    "        assert encoder.hid_dim == decoder.hid_dim, \\\n",
    "            \"Hidden dimensions of encoder and decoder must be equal!\"\n",
    "        \n",
    "    def forward(self, src, trg, teacher_forcing_ratio = 0.5):\n",
    "        \n",
    "        #src = [src len, batch size]\n",
    "        #trg = [trg len, batch size]\n",
    "        #teacher_forcing_ratio is probability to use teacher forcing\n",
    "        #e.g. if teacher_forcing_ratio is 0.75 we use ground-truth inputs 75% of the time\n",
    "        \n",
    "        batch_size = trg.shape[1]\n",
    "        trg_len = trg.shape[0]\n",
    "        trg_vocab_size = self.decoder.output_dim\n",
    "        \n",
    "        #tensor to store decoder outputs\n",
    "        outputs = torch.zeros(trg_len, batch_size, trg_vocab_size).to(self.device)\n",
    "        \n",
    "        #last hidden state of the encoder is the context\n",
    "        context = self.encoder(src)\n",
    "        \n",
    "        #context also used as the initial hidden state of the decoder\n",
    "        hidden = context\n",
    "        \n",
    "        #first input to the decoder is the <sos> tokens\n",
    "        input = trg[0,:]\n",
    "        \n",
    "        for t in range(1, trg_len):\n",
    "            \n",
    "            # insert input token embedding, previous hidden state and the context state\n",
    "            # receive output tensor (predictions) and new hidden state\n",
    "            output, hidden = self.decoder(input, hidden, context)\n",
    "            \n",
    "            # place predictions in a tensor holding predictions for each token\n",
    "            outputs[t] = output\n",
    "            \n",
    "            #decide if we are going to use teacher forcing or not\n",
    "            teacher_force = random.random() < teacher_forcing_ratio\n",
    "            \n",
    "            # get the highest predicted token from our predictions\n",
    "            # top1 has the dim [batch_size,vocab_len]\n",
    "            # each example/word output a vector of target vocab length and we are taking the index of that\n",
    "            top1 = output.argmax(1) \n",
    "            \n",
    "            #if teacher forcing, use actual next token as next input\n",
    "            #if not, use predicted token\n",
    "            input = trg[t] if teacher_force else top1\n",
    "\n",
    "        return outputs"
   ]
  },
  {
   "cell_type": "code",
   "execution_count": null,
   "metadata": {
    "ExecuteTime": {
     "end_time": "2021-01-22T03:50:28.342803Z",
     "start_time": "2021-01-22T03:50:28.340691Z"
    }
   },
   "outputs": [],
   "source": [
    "# len(Question.vocab)"
   ]
  },
  {
   "cell_type": "markdown",
   "metadata": {},
   "source": [
    "## Training the Seq2Seq Model\n",
    "\n",
    "We initialise our parameters, encoder, decoder and seq2seq model (placing it on the GPU if we have one). "
   ]
  },
  {
   "cell_type": "code",
   "execution_count": null,
   "metadata": {
    "ExecuteTime": {
     "end_time": "2021-01-22T03:50:29.666146Z",
     "start_time": "2021-01-22T03:50:29.450971Z"
    }
   },
   "outputs": [],
   "source": [
    "INPUT_DIM = len(English.vocab)\n",
    "OUTPUT_DIM = len(Italian.vocab)\n",
    "ENC_EMB_DIM = 256\n",
    "DEC_EMB_DIM = 256\n",
    "HID_DIM = 512\n",
    "ENC_DROPOUT = 0.5\n",
    "DEC_DROPOUT = 0.5\n",
    "\n",
    "enc = Encoder(INPUT_DIM, ENC_EMB_DIM, HID_DIM, ENC_DROPOUT)\n",
    "dec = Decoder(OUTPUT_DIM, DEC_EMB_DIM, HID_DIM, DEC_DROPOUT)\n",
    "\n",
    "device = torch.device('cuda' if torch.cuda.is_available() else 'cpu')\n",
    "\n",
    "model = Seq2Seq(enc, dec, device).to(device)"
   ]
  },
  {
   "cell_type": "code",
   "execution_count": null,
   "metadata": {
    "ExecuteTime": {
     "end_time": "2021-01-22T03:50:30.142210Z",
     "start_time": "2021-01-22T03:50:30.097834Z"
    }
   },
   "outputs": [],
   "source": [
    "# check the model with input,output shapes\n",
    "print('testing model by feedign some data')\n",
    "x = next(iter(train_iterator))\n",
    "src,src_length = x.english \n",
    "trg,trg_length = x.italian\n",
    "print(\"input shape\", src.shape,trg.shape)\n",
    "output = model(src, trg)\n",
    "print(\"output shape\",output.shape)"
   ]
  },
  {
   "cell_type": "markdown",
   "metadata": {},
   "source": [
    "We use a simplified version of the weight initialization scheme used in the paper. Here, we will initialize all biases to zero and all weights from $\\mathcal{N}(0, 0.01)$."
   ]
  },
  {
   "cell_type": "code",
   "execution_count": null,
   "metadata": {
    "ExecuteTime": {
     "end_time": "2021-01-22T03:50:31.669833Z",
     "start_time": "2021-01-22T03:50:31.657763Z"
    }
   },
   "outputs": [],
   "source": [
    "def init_weights(m):\n",
    "    for name, param in m.named_parameters():\n",
    "        nn.init.normal_(param.data, mean=0, std=0.01)\n",
    "        \n",
    "model.apply(init_weights)"
   ]
  },
  {
   "cell_type": "markdown",
   "metadata": {},
   "source": [
    "Calculate the number of parameters"
   ]
  },
  {
   "cell_type": "code",
   "execution_count": null,
   "metadata": {
    "ExecuteTime": {
     "end_time": "2021-01-22T03:50:48.924837Z",
     "start_time": "2021-01-22T03:50:48.916244Z"
    }
   },
   "outputs": [],
   "source": [
    "def count_parameters(model):\n",
    "    return sum(p.numel() for p in model.parameters() if p.requires_grad)\n",
    "\n",
    "print(f'The model has {count_parameters(model):,} trainable parameters')"
   ]
  },
  {
   "cell_type": "markdown",
   "metadata": {},
   "source": [
    "We create an optimizer."
   ]
  },
  {
   "cell_type": "code",
   "execution_count": null,
   "metadata": {
    "ExecuteTime": {
     "end_time": "2021-01-22T03:50:49.352129Z",
     "start_time": "2021-01-22T03:50:49.348519Z"
    }
   },
   "outputs": [],
   "source": [
    "optimizer = optim.Adam(model.parameters())"
   ]
  },
  {
   "cell_type": "markdown",
   "metadata": {},
   "source": [
    "We initialize the loss function."
   ]
  },
  {
   "cell_type": "code",
   "execution_count": null,
   "metadata": {
    "ExecuteTime": {
     "end_time": "2021-01-22T03:50:50.109115Z",
     "start_time": "2021-01-22T03:50:50.104603Z"
    }
   },
   "outputs": [],
   "source": [
    "it_PAD_IDX = italian_vocab.stoi[Italian.pad_token]\n",
    "\n",
    "criterion = nn.CrossEntropyLoss(ignore_index = it_PAD_IDX)"
   ]
  },
  {
   "cell_type": "markdown",
   "metadata": {},
   "source": [
    "We then create the training loop..."
   ]
  },
  {
   "cell_type": "code",
   "execution_count": null,
   "metadata": {
    "ExecuteTime": {
     "end_time": "2021-01-22T03:54:38.305388Z",
     "start_time": "2021-01-22T03:54:38.295379Z"
    }
   },
   "outputs": [],
   "source": [
    "def train(model, iterator, optimizer, criterion, clip):\n",
    "    \n",
    "    model.train()\n",
    "    \n",
    "    epoch_loss = 0\n",
    "    \n",
    "    for i, batch in enumerate(iterator):\n",
    "        \n",
    "        src, src_length = batch.english\n",
    "        trg, trg_length = batch.italian\n",
    "        \n",
    "\n",
    "        optimizer.zero_grad()\n",
    "        \n",
    "        output = model(src, trg)\n",
    "        \n",
    "        #trg = [trg len, batch size]\n",
    "        #output = [trg len, batch size, output dim]\n",
    "        \n",
    "        output_dim = output.shape[-1]\n",
    "        \n",
    "        output = output[1:].view(-1, output_dim)\n",
    "        trg = trg[1:].view(-1)\n",
    "        \n",
    "        #trg = [(trg len - 1) * batch size]\n",
    "        #output = [(trg len - 1) * batch size, output dim]\n",
    "        \n",
    "        loss = criterion(output, trg)\n",
    "        \n",
    "        loss.backward()\n",
    "        \n",
    "        torch.nn.utils.clip_grad_norm_(model.parameters(), clip)\n",
    "        \n",
    "        optimizer.step()\n",
    "        \n",
    "        epoch_loss += loss.item()\n",
    "        \n",
    "        if(i % 1000 == 0):\n",
    "            print(f\"{i} steps are done\")\n",
    "        \n",
    "    return epoch_loss / len(iterator)"
   ]
  },
  {
   "cell_type": "markdown",
   "metadata": {},
   "source": [
    "...and the evaluation loop, remembering to set the model to `eval` mode and turn off teaching forcing."
   ]
  },
  {
   "cell_type": "code",
   "execution_count": null,
   "metadata": {
    "ExecuteTime": {
     "end_time": "2021-01-22T03:54:38.954469Z",
     "start_time": "2021-01-22T03:54:38.943068Z"
    }
   },
   "outputs": [],
   "source": [
    "def evaluate(model, iterator, criterion):\n",
    "    \n",
    "    model.eval()\n",
    "    \n",
    "    epoch_loss = 0\n",
    "    \n",
    "    with torch.no_grad():\n",
    "    \n",
    "        for i, batch in enumerate(iterator):\n",
    "\n",
    "            src, src_length = batch.english\n",
    "            trg, trg_length = batch.italian\n",
    "\n",
    "            output = model(src, trg, 0) #turn off teacher forcing\n",
    "\n",
    "            #trg = [trg len, batch size]\n",
    "            #output = [trg len, batch size, output dim]\n",
    "\n",
    "            output_dim = output.shape[-1]\n",
    "            \n",
    "            output = output[1:].view(-1, output_dim)\n",
    "            trg = trg[1:].view(-1)\n",
    "\n",
    "            #trg = [(trg len - 1) * batch size]\n",
    "            #output = [(trg len - 1) * batch size, output dim]\n",
    "\n",
    "            loss = criterion(output, trg)\n",
    "\n",
    "            epoch_loss += loss.item()\n",
    "        \n",
    "    return epoch_loss / len(iterator)"
   ]
  },
  {
   "cell_type": "markdown",
   "metadata": {},
   "source": [
    "Finally, define a timing function."
   ]
  },
  {
   "cell_type": "code",
   "execution_count": null,
   "metadata": {
    "ExecuteTime": {
     "end_time": "2021-01-22T03:54:39.629889Z",
     "start_time": "2021-01-22T03:54:39.623148Z"
    }
   },
   "outputs": [],
   "source": [
    "def epoch_time(start_time, end_time):\n",
    "    elapsed_time = end_time - start_time\n",
    "    elapsed_mins = int(elapsed_time / 60)\n",
    "    elapsed_secs = int(elapsed_time - (elapsed_mins * 60))\n",
    "    return elapsed_mins, elapsed_secs"
   ]
  },
  {
   "cell_type": "markdown",
   "metadata": {},
   "source": [
    "Then, we train our model, saving the parameters that give us the best \n"
   ]
  },
  {
   "cell_type": "code",
   "execution_count": null,
   "metadata": {
    "ExecuteTime": {
     "end_time": "2021-01-22T04:09:09.142749Z",
     "start_time": "2021-01-22T03:54:40.602437Z"
    }
   },
   "outputs": [],
   "source": [
    "N_EPOCHS = 10\n",
    "CLIP = 1\n",
    "\n",
    "best_valid_loss = float('inf')\n",
    "\n",
    "for epoch in range(N_EPOCHS):\n",
    "    \n",
    "    start_time = time.time()\n",
    "    \n",
    "    train_loss = train(model, train_iterator, optimizer, criterion, CLIP)\n",
    "    valid_loss = evaluate(model, valid_iterator, criterion)\n",
    "    \n",
    "    end_time = time.time()\n",
    "    \n",
    "    epoch_mins, epoch_secs = epoch_time(start_time, end_time)\n",
    "    \n",
    "    if valid_loss < best_valid_loss:\n",
    "        best_valid_loss = valid_loss\n",
    "        torch.save(model.state_dict(), 'squad-vanila_encoder_decoder.pt')\n",
    "    \n",
    "    print(f'Epoch: {epoch+1:02} | Time: {epoch_mins}m {epoch_secs}s')\n",
    "    print(f'\\tTrain Loss: {train_loss:.3f} | Train PPL: {math.exp(train_loss):7.3f}')\n",
    "    print(f'\\t Val. Loss: {valid_loss:.3f} |  Val. PPL: {math.exp(valid_loss):7.3f}')"
   ]
  },
  {
   "cell_type": "markdown",
   "metadata": {},
   "source": [
    "Finally, we test the model on the test set using these \"best\" parameters."
   ]
  },
  {
   "cell_type": "code",
   "execution_count": null,
   "metadata": {},
   "outputs": [],
   "source": [
    "model.load_state_dict(torch.load('squad-vanila_encoder_decoder.pt'))\n",
    "\n",
    "test_loss = evaluate(model, test_iterator, criterion)\n",
    "\n",
    "print(f'| Test Loss: {test_loss:.3f} | Test PPL: {math.exp(test_loss):7.3f} |')"
   ]
  },
  {
   "cell_type": "code",
   "execution_count": null,
   "metadata": {},
   "outputs": [],
   "source": []
  }
 ],
 "metadata": {
  "kernelspec": {
   "display_name": "pytorch",
   "language": "python",
   "name": "pytorch"
  },
  "language_info": {
   "codemirror_mode": {
    "name": "ipython",
    "version": 3
   },
   "file_extension": ".py",
   "mimetype": "text/x-python",
   "name": "python",
   "nbconvert_exporter": "python",
   "pygments_lexer": "ipython3",
   "version": "3.8.5"
  },
  "varInspector": {
   "cols": {
    "lenName": 16,
    "lenType": 16,
    "lenVar": 40
   },
   "kernels_config": {
    "python": {
     "delete_cmd_postfix": "",
     "delete_cmd_prefix": "del ",
     "library": "var_list.py",
     "varRefreshCmd": "print(var_dic_list())"
    },
    "r": {
     "delete_cmd_postfix": ") ",
     "delete_cmd_prefix": "rm(",
     "library": "var_list.r",
     "varRefreshCmd": "cat(var_dic_list()) "
    }
   },
   "types_to_exclude": [
    "module",
    "function",
    "builtin_function_or_method",
    "instance",
    "_Feature"
   ],
   "window_display": false
  }
 },
 "nbformat": 4,
 "nbformat_minor": 4
}
