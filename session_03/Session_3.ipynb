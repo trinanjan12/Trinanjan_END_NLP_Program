{
 "cells": [
  {
   "cell_type": "code",
   "execution_count": 2,
   "metadata": {},
   "outputs": [],
   "source": [
    "import math\n",
    "import random\n",
    "import numpy as np\n",
    "from functools import reduce\n",
    "import string\n",
    "\n",
    "random.seed(0)\n",
    "random.seed(0)"
   ]
  },
  {
   "cell_type": "markdown",
   "metadata": {},
   "source": [
    "## Problem : 1\n",
    "    Write a function using only list filter lambda that can tell whether a number is a Fibonacci number or not. \n",
    "    You can use a pre-calculated list/dict to store fab numbers till 10000 PTS:100"
   ]
  },
  {
   "cell_type": "code",
   "execution_count": 3,
   "metadata": {},
   "outputs": [
    {
     "name": "stdout",
     "output_type": "stream",
     "text": [
      "The number belongs to fibonacci series\n"
     ]
    }
   ],
   "source": [
    "checkIsPerfectSquare = lambda x: True if math.sqrt(x).is_integer(\n",
    ") else False  # lamda function for sqrt\n",
    "checkFibonacci = lambda x: checkIsPerfectSquare(\n",
    "    5 * x * x + 4) or checkIsPerfectSquare(5 * x * x - 4\n",
    "                                           )  # Binet's fomula for fibonacci\n",
    "fibonacci_test_number = 2584\n",
    "if checkFibonacci(fibonacci_test_number):\n",
    "    print(\"The number belongs to fibonacci series\")\n",
    "else:\n",
    "    print(\"The number does not belong to fibonacci series\")"
   ]
  },
  {
   "cell_type": "code",
   "execution_count": 5,
   "metadata": {},
   "outputs": [],
   "source": [
    "# pre-calculating a list/dict to store fab numbers till 10000\n",
    "fibonacci_list = [1, 1]  # initialising a fibonacci list with first two numbers\n",
    "for i in range(10000 - 2):\n",
    "    next_number = fibonacci_list[-1] + fibonacci_list[-2]\n",
    "    fibonacci_list.append(next_number)\n",
    "\n",
    "\n",
    "# function which takes a list of number and returns the fibonacci numbers\n",
    "def fibonacci_numbers_check(num_list):\n",
    "    return list(filter(lambda x: x in fibonacci_list, num_list))"
   ]
  },
  {
   "cell_type": "code",
   "execution_count": 6,
   "metadata": {},
   "outputs": [
    {
     "name": "stdout",
     "output_type": "stream",
     "text": [
      "The fibonacci numbers are [8]\n"
     ]
    }
   ],
   "source": [
    "test_number_list = [10, 20, 30, 8]\n",
    "print(f'The fibonacci numbers are {fibonacci_numbers_check(test_number_list)}')"
   ]
  },
  {
   "cell_type": "markdown",
   "metadata": {},
   "source": [
    "## Problem : 2\n",
    "    Using list comprehension (and zip/lambda/etc if required) write five different expressions that:\n",
    "        add 2 iterables a and b such that a is even and b is odd\n",
    "        strips every vowel from a string provided (tsai>>t s)\n",
    "        acts like a ReLU function for a 1D array\n",
    "        acts like a sigmoid function for a 1D array\n",
    "        takes a small character string and shifts all characters by 5 (handle boundary conditions) tsai>>yxfn"
   ]
  },
  {
   "cell_type": "code",
   "execution_count": 7,
   "metadata": {},
   "outputs": [
    {
     "name": "stdout",
     "output_type": "stream",
     "text": [
      "[0, 2, 4, 6, 8, 10, 12, 14, 16, 18]\n",
      "[1, 3, 5, 7, 9, 11, 13, 15, 17, 19]\n",
      "[1, 5, 9, 13, 17, 21, 25, 29, 33, 37]\n"
     ]
    }
   ],
   "source": [
    "# add 2 iterables a and b such that a is even and b is odd\n",
    "iter_a = list(filter(lambda x: x % 2 == 0, range(20)))\n",
    "iter_b = list(filter(lambda x: x % 2 != 0, range(20)))\n",
    "print(iter_a)\n",
    "print(iter_b)\n",
    "sum = [(iter_a[i] + num) for i, num in enumerate(iter_b)]\n",
    "print(sum)"
   ]
  },
  {
   "cell_type": "code",
   "execution_count": 8,
   "metadata": {},
   "outputs": [
    {
     "data": {
      "text/plain": [
       "'sfsf ds'"
      ]
     },
     "execution_count": 8,
     "metadata": {},
     "output_type": "execute_result"
    }
   ],
   "source": [
    "# strips every vowel from a string provided (tsai>>t s)\n",
    "vowels = [\"a\", \"e\", \"i\", \"o\", \"u\"]\n",
    "\n",
    "\n",
    "def strip_vowels(string):\n",
    "    return \"\".join(list(filter(lambda x: x not in vowels, string)))\n",
    "\n",
    "\n",
    "strip_vowels(\"safasf das\")"
   ]
  },
  {
   "cell_type": "code",
   "execution_count": 9,
   "metadata": {},
   "outputs": [
    {
     "data": {
      "text/plain": [
       "[2, 3, 0, 100]"
      ]
     },
     "execution_count": 9,
     "metadata": {},
     "output_type": "execute_result"
    }
   ],
   "source": [
    "# acts like a ReLU function for a 1D array\n",
    "def relu_activation(array):\n",
    "    return [x if x > 0 else 0 for x in array]\n",
    "\n",
    "\n",
    "relu_activation([2, 3, -1, 100])"
   ]
  },
  {
   "cell_type": "code",
   "execution_count": 10,
   "metadata": {},
   "outputs": [
    {
     "data": {
      "text/plain": [
       "[0.8807970779778823, 0.9525741268224334, 0.2689414213699951, 1.0]"
      ]
     },
     "execution_count": 10,
     "metadata": {},
     "output_type": "execute_result"
    }
   ],
   "source": [
    "# acts like a sigmoid function for a 1D array\n",
    "import math\n",
    "\n",
    "\n",
    "def sigmoid(x):\n",
    "    return 1 / (1 + math.exp(-x))\n",
    "\n",
    "\n",
    "def sigmoid_activation(array):\n",
    "    return [sigmoid(x) for x in array]\n",
    "\n",
    "\n",
    "sigmoid_activation([2, 3, -1, 100])"
   ]
  },
  {
   "cell_type": "code",
   "execution_count": 11,
   "metadata": {},
   "outputs": [
    {
     "data": {
      "text/plain": [
       "'yxfn'"
      ]
     },
     "execution_count": 11,
     "metadata": {},
     "output_type": "execute_result"
    }
   ],
   "source": [
    "# takes a small character string and shifts all characters by 5 (handle boundary conditions) tsai>>yxfn\n",
    "def shift_chars(string):\n",
    "    return \"\".join(chr(ord(x) + 5) for x in string)\n",
    "\n",
    "\n",
    "shift_chars(\"tsai\")"
   ]
  },
  {
   "cell_type": "markdown",
   "metadata": {},
   "source": [
    "## Problem : 3\n",
    "    A list comprehension expression that takes a ~200 word paragraph (write your own paragraph to check), \n",
    "    and checks whether it has any of the swear words mentioned in \n",
    "    https://github.com/RobertJGabriel/Google-profanity-words/blob/master/list.txt PTS:200"
   ]
  },
  {
   "cell_type": "code",
   "execution_count": 12,
   "metadata": {},
   "outputs": [
    {
     "name": "stdout",
     "output_type": "stream",
     "text": [
      "451\n"
     ]
    },
    {
     "data": {
      "text/plain": [
       "['4r5e', '5h1t', '5hit', 'a55', 'anal']"
      ]
     },
     "execution_count": 12,
     "metadata": {},
     "output_type": "execute_result"
    }
   ],
   "source": [
    "file = open('swear_list.txt', 'r')\n",
    "swear_list = file.read().splitlines()\n",
    "print(len(swear_list))\n",
    "swear_list[:5]"
   ]
  },
  {
   "cell_type": "code",
   "execution_count": 27,
   "metadata": {},
   "outputs": [
    {
     "data": {
      "text/plain": [
       "['fucking', 'fucking', 'fucking', 'fuck']"
      ]
     },
     "execution_count": 27,
     "metadata": {},
     "output_type": "execute_result"
    }
   ],
   "source": [
    "def check_swear(paragraph):\n",
    "    paragraph_words = paragraph.split(\" \")\n",
    "    return list(filter(lambda x: x in swear_list, paragraph_words))\n",
    "\n",
    "# taken from the wolf of wall street screenplay\n",
    "par = \"INT. JORDAN’S ESTATE - MASTER BEDROOM - DAY (FEB ‘95) 120\\nBack to scene. Naomi holds another glass of water.\\nNAOMI\\nBut why should you give a shit?\\nYou're not the one who researched\\nthe fucking thing and dealt with\\nthe fucking golf course people!\\nJORDAN\\nYou’re an aspiring landscape\\narchitect?! But what happened to\\nwine connoisseur? Oh wait, that\\nwas last month!\\nNAOMI\\nFuck you!\\nNaomi winds up with the water glass. Jordan stands tall,\\npuffs himself up, arms flexed at his sides.\\nNAOMI (CONT’D)\\nStop flexing your arms, you look\\nlike a fucking imbecile.\\n(re: his crotch)\\nAnd don’t think that impresses me\\nmuch.\\nJordan looks down: he has a morning erection.\\nJORDAN\\nI wasn't flexing my arms. You're\\njust lucky to have a husband who's\\nin such great shape. Now get over\\nhere and kiss me!\\nNAOMI\\nKiss you?!\\nSplash! She nails him one last time, then storms out.\\nHe stands there dripping wet. To his erection:\\nJORDAN\\nWhere the fuck were you last\\nnight?\\nJORDAN (V.O.)\\nMy morning ritual. First I’d get\\nup and fight with Naomi about\\nwhatever I did the night before.\\nThe Wolf of Wall Street Buff Revised Pages 3/5/13 60.\\nScript provided for educational purposes. More scripts can be found here: http://www.sellingyourscreenplay.com/library\\n120A INT. JORDAN’S ESTATE - STEAM SHOWER - DAY 120A\\nJordan stands in the steaming shower.\\nJORDAN (V.O.)\\nNext it was a steam so I could\\nsweat out whatever drugs were\\nstill in my system.\\n120B INT. JORDAN’S ESTATE - MASTER BATHROOM - CONTINUOUS 120B\\nJordan looks at himself in the mirror. His eyes are\\nbloodshot - he looks like shit.\\nJORDAN (V.O.)\\nAfter that I’d assess the damage.\\nJordan looks at a Visine bottle - “Recommended Dosage -\\nTwo Drops”. He squirts six drops in each eye.\\nJORDAN (V.O.)\\nWhat kind of maniac abuses eye\\ndrops?\\n121 INT. JORDAN’S ESTATE - DRESSING ROOM - DAY (FEB ‘95) 121\\nFully dressed and standing amid hundreds of suits, Jordan\\npops two white pills, swigs some juice.\\nJORDAN (V.O.)\\nThen I’d get dressed, take my\\n“back pills” to get me started,\\nthen attempt to make up with her.\"\n",
    "check_swear(par)"
   ]
  },
  {
   "cell_type": "markdown",
   "metadata": {},
   "source": [
    "## Problem : 4\n",
    "    Using reduce functions:\n",
    "        add only even numbers in a list\n",
    "        find the biggest character in a string (printable ascii characters)\n",
    "        adds every 3rd number in a list"
   ]
  },
  {
   "cell_type": "code",
   "execution_count": 21,
   "metadata": {},
   "outputs": [
    {
     "name": "stdout",
     "output_type": "stream",
     "text": [
      "The random list [0, 1, 2, 3, 4, 5, 6, 7, 8, 9]\n",
      "Adding even numbers 20\n",
      "----------------------------\n",
      "The random string list ['A', 'C', 'a', 'c', 'Z']\n",
      "Biggest ascii chatacter c\n",
      "----------------------------\n",
      "The random list [8 2 8 7 4 6 2 4 3 7]\n",
      "Adding every 3rd numbers 24\n"
     ]
    }
   ],
   "source": [
    "# add only even numbers in a list\n",
    "my_list = [i for i in range(0, 10)]\n",
    "lamda_func_even_num = lambda x, y: x + y if (x % 2 == 0 and y % 2 == 0) else x\n",
    "print('The random list', my_list)\n",
    "print(\n",
    "    f'Adding even numbers {reduce(lamda_func_even_num,my_list)}'\n",
    ")\n",
    "print('----------------------------')\n",
    "\n",
    "# find the biggest character in a string (printable ascii characters)\n",
    "my_string_list = [*'ACacZ']\n",
    "lamda_func_biggest_char = lambda x, y: x if ord(x) > ord(y) else y\n",
    "print('The random string list', my_string_list)\n",
    "print(\n",
    "    f'Biggest ascii chatacter {reduce(lamda_func_biggest_char,my_string_list)}'\n",
    ")\n",
    "print('----------------------------')\n",
    "# adds every 3rd number in a list\n",
    "my_list = np.random.randint(2, 10, size=10)\n",
    "lamda_func_add_indexwise = lambda x, y: x + y[1] if y[0] % 3 == 0 else x\n",
    "# checking modulus of 3rd index\n",
    "print('The random list', my_list)\n",
    "print(\n",
    "    f'Adding every 3rd numbers {reduce(lamda_func_add_indexwise,enumerate(my_list))[1]}'\n",
    ")"
   ]
  },
  {
   "cell_type": "markdown",
   "metadata": {},
   "source": [
    "## Problem : 5\n",
    "    Using randint, random.choice and list comprehensions, write an expression that generates 15 \n",
    "    random KADDAADDDD number plates, \n",
    "    where KA is fixed, D stands for a digit, \n",
    "    and A stands for Capital alphabets. 10<<DD<<99 & 1000<<DDDD<<9999 PTS:100"
   ]
  },
  {
   "cell_type": "code",
   "execution_count": 22,
   "metadata": {},
   "outputs": [
    {
     "name": "stdout",
     "output_type": "stream",
     "text": [
      "--------------------Random Number Plates--------------------\n",
      "\n",
      " ['KA84IO9071', 'KA94UW6855', 'KA20KT2889', 'KA72SU6493', 'KA34HA5440', 'KA24WH7095', 'KA31KN2018', 'KA22ZE4584', 'KA15SU9752', 'KA87VC1437', 'KA25UG2961', 'KA60CL2901', 'KA14TA4188', 'KA33WD8851', 'KA36XZ2000']\n"
     ]
    }
   ],
   "source": [
    "number_plates = ['KA'+ str(random.randint(10,99))+ random.choice(string.ascii_uppercase)\\\n",
    "                 + random.choice(string.ascii_uppercase)+str(random.randint(1000,9999)) for i in range(0,15)]\n",
    "\n",
    "print('--------------------Random Number Plates--------------------\\n\\n',\n",
    "      number_plates)"
   ]
  },
  {
   "cell_type": "markdown",
   "metadata": {},
   "source": [
    "## Problem : 6\n",
    "    Write the above again from scratch where KA can be changed to DL, and 1000/9999 ranges can be provided"
   ]
  },
  {
   "cell_type": "code",
   "execution_count": 23,
   "metadata": {},
   "outputs": [
    {
     "name": "stdout",
     "output_type": "stream",
     "text": [
      "--------------------Random Number Plates with DL and between specific range--------------------\n",
      "\n",
      " ['DL96AR3743', 'DL89DI2286', 'DL38CU3233', 'DL54NF2250', 'DL74OB4443', 'DL22WM2816', 'DL43LX3926', 'DL82FW4755', 'DL36YB4769', 'DL30FK4168', 'DL42DT3811', 'DL95FA3931', 'DL97NS4083', 'DL49UL3591', 'DL94IE4296']\n"
     ]
    }
   ],
   "source": [
    "def custom_number_plate_generator(state_code, alpha_numeric_range):\n",
    "    return state_code + str(random.randint(10,99))+ random.choice(string.ascii_uppercase)\\\n",
    "    + random.choice(string.ascii_uppercase)+str(random.randint(alpha_numeric_range[0],alpha_numeric_range[1]))\n",
    "\n",
    "\n",
    "number_plates_new = [\n",
    "    custom_number_plate_generator('DL', [2000, 5000]) for i in range(0, 15)\n",
    "]\n",
    "\n",
    "print('--------------------Random Number Plates with DL and between specific range--------------------\\n\\n',\\\n",
    "      number_plates_new)"
   ]
  },
  {
   "cell_type": "code",
   "execution_count": null,
   "metadata": {},
   "outputs": [],
   "source": []
  }
 ],
 "metadata": {
  "kernelspec": {
   "display_name": "Python 3",
   "language": "python",
   "name": "python3"
  },
  "language_info": {
   "codemirror_mode": {
    "name": "ipython",
    "version": 3
   },
   "file_extension": ".py",
   "mimetype": "text/x-python",
   "name": "python",
   "nbconvert_exporter": "python",
   "pygments_lexer": "ipython3",
   "version": "3.8.5"
  }
 },
 "nbformat": 4,
 "nbformat_minor": 4
}
