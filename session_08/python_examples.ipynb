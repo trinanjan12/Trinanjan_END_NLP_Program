{
 "cells": [
  {
   "cell_type": "code",
   "execution_count": 131,
   "metadata": {
    "ExecuteTime": {
     "end_time": "2020-12-17T15:31:33.345162Z",
     "start_time": "2020-12-17T15:31:33.343584Z"
    }
   },
   "outputs": [],
   "source": [
    "import os\n",
    "import time\n",
    "import random"
   ]
  },
  {
   "cell_type": "markdown",
   "metadata": {},
   "source": [
    "# Assignment 2:\n",
    "Write Python examples to create dataset for python code"
   ]
  },
  {
   "cell_type": "code",
   "execution_count": 1,
   "metadata": {
    "ExecuteTime": {
     "end_time": "2020-12-17T17:26:40.543822Z",
     "start_time": "2020-12-17T17:26:40.529404Z"
    }
   },
   "outputs": [
    {
     "name": "stdout",
     "output_type": "stream",
     "text": [
      "Sum: 7.8\n",
      "largest:14\n"
     ]
    }
   ],
   "source": [
    "# write a python program to add two numbers\n",
    "num1 = 1.5\n",
    "num2 = 6.3\n",
    "sum = num1 + num2\n",
    "print(f'Sum: {sum}')\n",
    "\n",
    "\n",
    "# write a python function to add two user provided numbers and return the sum\n",
    "def add_two_numbers(num1, num2):\n",
    "    sum = num1 + num2\n",
    "    return sum\n",
    "\n",
    "\n",
    "# write a program to find and print the largest among three numbers\n",
    "\n",
    "num1 = 10\n",
    "num2 = 12\n",
    "num3 = 14\n",
    "if (num1 >= num2) and (num1 >= num3):\n",
    "    largest = num1\n",
    "elif (num2 >= num1) and (num2 >= num3):\n",
    "    largest = num2\n",
    "else:\n",
    "    largest = num3\n",
    "print(f'largest:{largest}')"
   ]
  },
  {
   "cell_type": "markdown",
   "metadata": {},
   "source": [
    "# Basic Python"
   ]
  },
  {
   "cell_type": "code",
   "execution_count": 137,
   "metadata": {
    "ExecuteTime": {
     "end_time": "2020-12-17T15:34:48.996883Z",
     "start_time": "2020-12-17T15:34:48.978474Z"
    }
   },
   "outputs": [
    {
     "name": "stdout",
     "output_type": "stream",
     "text": [
      "Result is:0.9090909090909091\n",
      "Result is:100\n",
      "The ASCII value of a character is :99\n",
      "largest:14\n",
      "Python101.ipynb\n",
      "1\n",
      "True\n"
     ]
    }
   ],
   "source": [
    "## 1\n",
    "# write a python program to devide two numbers and print the result\n",
    "num1 = 10\n",
    "num2 = 11\n",
    "res = num1 / num2\n",
    "print(f'Result is:{res}')\n",
    "\n",
    "## 2\n",
    "# write a python program to find square of a number and print the result\n",
    "num = 10\n",
    "res = num * num\n",
    "print(f'Result is:{res}')\n",
    "\n",
    "\n",
    "## 3\n",
    "# write a python function to find area of a circle given the radious and return the area\n",
    "def ares_circle():\n",
    "    const_PI = 3.142\n",
    "    area_circle = const_PI * r * r\n",
    "    return area_circle\n",
    "\n",
    "\n",
    "## 4\n",
    "# write a python program to print the ASCII value of a character\n",
    "example_char = 'c'\n",
    "print(f'The ASCII value of a character is :{ord(example_char)}')\n",
    "\n",
    "## 5\n",
    "# write a program to find and print the largest among three numbers\n",
    "num1 = 10\n",
    "num2 = 12\n",
    "num3 = 14\n",
    "if (num1 >= num2) and (num1 >= num3):\n",
    "    largest = num1\n",
    "elif (num2 >= num1) and (num2 >= num3):\n",
    "    largest = num2\n",
    "else:\n",
    "    largest = num3\n",
    "print(f'largest:{largest}')\n",
    "\n",
    "\n",
    "## 6\n",
    "# write a python program print the time required to loop through a list to print the elements and return the time required\n",
    "def time_to_loop(test_list):\n",
    "    start_time = time.time()\n",
    "    for i in test_list:\n",
    "        print(i)\n",
    "    end_time = time.time()\n",
    "    return (end_time - start_time)\n",
    "\n",
    "\n",
    "## 7\n",
    "# write a program create a folder if it doesn't exists\n",
    "directory = '../session_s2/'\n",
    "if not os.path.exists(directory):\n",
    "    os.makedirs(directory)\n",
    "\n",
    "## 8\n",
    "# write a program to get the name of a file from the path of the file and print the name\n",
    "directory = '../session_2/Python101.ipynb'\n",
    "if os.path.exists(directory):\n",
    "    print(os.path.basename(directory))\n",
    "\n",
    "## 9\n",
    "# write a program to generate a random number between 0 and 9 and print them\n",
    "print(random.randint(0, 9))\n",
    "\n",
    "## 10\n",
    "# write a program to check if a Number is even or odd and print the boolean flag\n",
    "test_num = 100\n",
    "print(test_num % 2 == 0)"
   ]
  },
  {
   "cell_type": "markdown",
   "metadata": {
    "ExecuteTime": {
     "end_time": "2020-12-17T11:11:56.584300Z",
     "start_time": "2020-12-17T11:11:56.580967Z"
    }
   },
   "source": [
    "# List in Python"
   ]
  },
  {
   "cell_type": "code",
   "execution_count": 61,
   "metadata": {
    "ExecuteTime": {
     "end_time": "2020-12-17T11:12:11.161998Z",
     "start_time": "2020-12-17T11:12:11.141532Z"
    }
   },
   "outputs": [
    {
     "name": "stdout",
     "output_type": "stream",
     "text": [
      "The first element of the list is : 1\n",
      "The first element of the list is : 12\n",
      "element exists\n",
      "['test2', 'test3']\n",
      "['test1', 'test2']\n",
      "List is Empty\n"
     ]
    }
   ],
   "source": [
    "## 11\n",
    "# write a python program to print the first and last element of a list\n",
    "example_list = [1, 2, 3, 11, '3', \"trinanjan\", 12]\n",
    "print(f'The first element of the list is : {example_list[0]}')\n",
    "print(f'The first element of the list is : {example_list[-1]}')\n",
    "\n",
    "\n",
    "## 12\n",
    "# write a python function to sort a list and return the sorted list\n",
    "def sort_list(test_list):\n",
    "    test_list.sort()\n",
    "    return test_list\n",
    "\n",
    "\n",
    "## 13\n",
    "# write a python program to print element exists if element exists in list\n",
    "element_2_check = \"test\"\n",
    "example_list = [1, 2, 3, \"test\"]\n",
    "if element_2_check in example_list:\n",
    "    print(\"element exists\")\n",
    "\n",
    "\n",
    "## 14\n",
    "# write a python function to remove duplicates from a list and return the list\n",
    "def sort_list(test_list):\n",
    "    test_list = list(set(test_list))\n",
    "    return test_list\n",
    "\n",
    "\n",
    "## 15\n",
    "# write a python function to reverse elements of a list and return the list\n",
    "def reverse_list(test_list):\n",
    "    test_list.reverse()\n",
    "    return test_list\n",
    "\n",
    "\n",
    "## 16\n",
    "# write a python program to remove one element from a list and print the new list\n",
    "test_list = [\"test1\", \"test2\", \"test3\"]\n",
    "test_list.remove(\"test1\")\n",
    "print(test_list)\n",
    "\n",
    "## 17\n",
    "# write a python program to remove last element from a list and print the new list\n",
    "test_list = [\"test1\", \"test2\", \"test3\"]\n",
    "test_list.pop()\n",
    "print(test_list)\n",
    "\n",
    "\n",
    "## 18\n",
    "# write a python function to concat 2 list and return the new list\n",
    "def concat_list(test_list_1, test_list_2):\n",
    "    test_list_1.extend(test_list_2)\n",
    "    return test_list_1\n",
    "\n",
    "\n",
    "test_list_1 = [\"test1\", \"test2\", \"test3\"]\n",
    "test_list_2 = [\"test4\", \"test5\", \"test6\"]\n",
    "\n",
    "## 19\n",
    "# write a python proram to check if the list is empty and print List is Empty if the list empty\n",
    "example_list = []\n",
    "if not example_list:\n",
    "    print(\"List is Empty\")\n",
    "\n",
    "\n",
    "## 20\n",
    "# write a python function to slice a list by index and return the new list\n",
    "def slice_list(test_list, start_index, end_index):\n",
    "    new_list = test_list[start_index:end_index]\n",
    "    return new_list"
   ]
  },
  {
   "cell_type": "markdown",
   "metadata": {},
   "source": [
    "# Tuple in Python"
   ]
  },
  {
   "cell_type": "code",
   "execution_count": 2,
   "metadata": {
    "ExecuteTime": {
     "end_time": "2020-12-17T17:27:46.587571Z",
     "start_time": "2020-12-17T17:27:46.564508Z"
    }
   },
   "outputs": [
    {
     "name": "stdout",
     "output_type": "stream",
     "text": [
      "count of the element :3\n",
      "Final string is :TENET\n",
      "reversed tuple is :('T', 'E', 'N', 'E', 'T')\n",
      "False\n",
      "The first element of the list is : 1\n",
      "The first element of the list is : 12\n"
     ]
    }
   ],
   "source": [
    "## 21\n",
    "# write a python program to print frequency/count of a element of a tuple\n",
    "test_tuple = ('1', '2', '1', '1', '2')\n",
    "test_elem = '1'\n",
    "print(f'count of the element :{test_tuple.count(test_elem)}')\n",
    "\n",
    "\n",
    "## 22\n",
    "# write a python function to join 2 tuple and return the joined tuple\n",
    "def join_tuple(tuple1, tuple2):\n",
    "    joined_tuple = tuple1 + tuple2\n",
    "    return joined_tuple\n",
    "\n",
    "\n",
    "## 23\n",
    "# write a python program to convert a tuple to a string and print the final string\n",
    "test_tuple = ('T', 'E', 'N', 'E', 'T')\n",
    "str_test = ''.join(test_tuple)\n",
    "print(f'Final string is :{str_test}')\n",
    "\n",
    "## 24\n",
    "# write a python program to the count/frequency of a tuple element\n",
    "test_tuple = ('T', 'E', 'N', 'E', 'T')\n",
    "test_element = 'T'\n",
    "repeat_count = test_tuple.count('T')\n",
    "\n",
    "\n",
    "## 25\n",
    "# write a function to convert a list to a tuple and return the new tuple\n",
    "def list_2_tuple(test_list):\n",
    "    new_tuple = tuple(test_list)\n",
    "    return new_tuple\n",
    "\n",
    "\n",
    "test_list = ['T', 'E', 'N', 'E', 'T']\n",
    "\n",
    "\n",
    "## 26\n",
    "# write a python function to slice a list by index and return the new list\n",
    "def slice_tuple(test_tuple, start_index, end_index):\n",
    "    new_tuple = test_tuple[start_index:end_index]\n",
    "    return new_tuple\n",
    "\n",
    "\n",
    "## 27\n",
    "# write a python program to reverse a tuple and print the reversed tuple\n",
    "test_tuple = tuple(\"TENET\")\n",
    "reversed_tuple = reversed(test_tuple)\n",
    "print(f'reversed tuple is :{ tuple(reversed_tuple)}')\n",
    "\n",
    "## 28\n",
    "# write a python program to find index of a tuple element and print the index\n",
    "test_tuple = tuple(\"TENET\")\n",
    "test_element = 'T'\n",
    "element_index = test_tuple.index(test_element)\n",
    "\n",
    "## 29\n",
    "# write a python proram to check 2 tuples are exactly same and print thier boolean status after comparision\n",
    "test_tuple_1 = tuple(\"TENET\")\n",
    "test_tuple_2 = tuple(\"TENETTENET\")\n",
    "print(test_tuple_1 == test_tuple_2)\n",
    "\n",
    "## 30\n",
    "# write a python program to print the first and last element of a tuple\n",
    "example_tuple = (1, 2, 3, 11, '3', \"trinanjan\", 12)\n",
    "print(f'The first element of the list is : {example_tuple[0]}')\n",
    "print(f'The first element of the list is : {example_tuple[-1]}')"
   ]
  },
  {
   "cell_type": "markdown",
   "metadata": {},
   "source": [
    "# String in Python"
   ]
  },
  {
   "cell_type": "code",
   "execution_count": 3,
   "metadata": {
    "ExecuteTime": {
     "end_time": "2020-12-17T17:27:47.965938Z",
     "start_time": "2020-12-17T17:27:47.961211Z"
    }
   },
   "outputs": [
    {
     "name": "stdout",
     "output_type": "stream",
     "text": [
      "Final string is :NOITPECNI TENET\n",
      "Lexicographically sorted string is :['a', 'a', 'i', 'j', 'n', 'n', 'n', 'r', 't']\n",
      "True\n",
      "9\n"
     ]
    }
   ],
   "source": [
    "## 31\n",
    "# write a python function to join/concatrnate two string and return the result string\n",
    "def join_string(str1, str2):\n",
    "    joined_str = str1 + str2\n",
    "    return joined_str\n",
    "\n",
    "\n",
    "## 32\n",
    "# write a python function to create a tuple using the elements of the string and return the result tuple\n",
    "def string_to_tuple(test_str):\n",
    "    new_tuple = tuple(test_str)\n",
    "    return new_tuple\n",
    "\n",
    "\n",
    "## 33\n",
    "# write a python function to separate/split a string using a delimiter specified and return the elements in a list\n",
    "def split_string(test_str, delimiter):\n",
    "    new_str = test_str.split(delimiter)\n",
    "    return new_str\n",
    "\n",
    "\n",
    "## 34\n",
    "# write a python function to convert a string to lower class and return the string\n",
    "def string_to_lowerclass(test_str):\n",
    "    return test_str.lower()\n",
    "\n",
    "\n",
    "## 35\n",
    "## write a python function nth index character from a nonempty string and return the result\n",
    "def remove_char_from_string(str, n):\n",
    "    first_part = str[:n]\n",
    "    last_part = str[n + 1:]\n",
    "    return first_part + last_part\n",
    "\n",
    "\n",
    "## 36\n",
    "# write a python function to count the occurrences of each word in a given sentence string and return the count in a dictionary format\n",
    "def count_word(test_str):\n",
    "    count_dict = dict()\n",
    "    words = test_str.split()\n",
    "\n",
    "    for word in words:\n",
    "        if word in counts:\n",
    "            count_dict[word] += 1\n",
    "        else:\n",
    "            count_dict[word] = 1\n",
    "\n",
    "\n",
    "## 37\n",
    "# write a python program reverse a string and print the result\n",
    "test_str = \"TENET INCEPTION\"\n",
    "str_test = ''.join(reversed(test_str))\n",
    "print(f'Final string is :{str_test}')\n",
    "\n",
    "## 38\n",
    "# write a python program to sort a string lexicographically and print the result\n",
    "test_str = \"trinanjan\"\n",
    "result_str = sorted(sorted(test_str), key=str.upper)\n",
    "print(f'Lexicographically sorted string is :{result_str}')\n",
    "\n",
    "## 39\n",
    "# write a python program to check if the string starts with specified characters and print the boolean status\n",
    "test_str = \"Trinanjan\"\n",
    "print(test_str.startswith(\"Tri\"))\n",
    "\n",
    "## 40\n",
    "# write a python program to find out the length of a string and print the length\n",
    "test_str = \"Trinanjan\"\n",
    "print(len(test_str))"
   ]
  },
  {
   "cell_type": "markdown",
   "metadata": {},
   "source": [
    "# Dictionary in Python"
   ]
  },
  {
   "cell_type": "code",
   "execution_count": 5,
   "metadata": {
    "ExecuteTime": {
     "end_time": "2020-12-17T17:28:04.920374Z",
     "start_time": "2020-12-17T17:28:04.900034Z"
    }
   },
   "outputs": [
    {
     "name": "stdout",
     "output_type": "stream",
     "text": [
      "{'India': 'New Delhi', 'Russia': 'moscow', 'Bangladesh': 'Dhaka'}\n",
      "The keys of this dict are : ['India', 'Russia', 'Bangladesh']\n",
      "The values of this dict are : ['New Delhi', 'moscow', 'Dhaka']\n",
      "{'India': 'New Delhi', 'Bangladesh': 'Dhaka'}\n",
      "The new dict after adding new element is : {'India': 'New Delhi', 'Russia': 'moscow', 'Bangladesh': 'Dhaka', 'Indonesia': 'Jakarta'}\n",
      "New dict is :  {'India': 'New Delhi', 'Russia': 'moscow', 'Bangladesh': 'Dhaka'}\n"
     ]
    }
   ],
   "source": [
    "## 41\n",
    "# write a python program to creat a Dictionary/dict and print the Dictionary\n",
    "test_dict = {'India': 'New Delhi', 'Russia': 'moscow', 'Bangladesh': 'Dhaka'}\n",
    "print(test_dict)\n",
    "\n",
    "## 42\n",
    "# write a python program to print the keys and values of a Dictionary/dict\n",
    "test_dict = {'India': 'New Delhi', 'Russia': 'moscow', 'Bangladesh': 'Dhaka'}\n",
    "print(f'The keys of this dict are : {list(test_dict.keys())}')\n",
    "print(f'The values of this dict are : {list(test_dict.values())}')\n",
    "\n",
    "## 43\n",
    "# write a python program to remove a element of the dict by key and print the new dict\n",
    "test_dict = {'India': 'New Delhi', 'Russia': 'moscow', 'Bangladesh': 'Dhaka'}\n",
    "test_dict.pop('Russia')\n",
    "print(test_dict)\n",
    "\n",
    "## 44\n",
    "# write a python program to add a new item to the existing dic and print the final dict\n",
    "test_dict = {'India': 'New Delhi', 'Russia': 'moscow', 'Bangladesh': 'Dhaka'}\n",
    "test_dict['Indonesia'] = 'Jakarta'\n",
    "print(f'The new dict after adding new element is : {test_dict}')\n",
    "\n",
    "## 45\n",
    "# write a python program to create a copy of a dict and print the new dict\n",
    "original_dict = {\n",
    "    'India': 'New Delhi',\n",
    "    'Russia': 'moscow',\n",
    "    'Bangladesh': 'Dhaka'\n",
    "}\n",
    "new_dict = original_dict.copy()\n",
    "print('New dict is : ', new_dict)\n",
    "\n",
    "\n",
    "## 46\n",
    "# write a python program to check if a key exists in a dict and print the status\n",
    "def sort_dict(test_dict, key_to_check):\n",
    "    print(key_to_check in test_dict.keys())\n",
    "\n",
    "\n",
    "## 47\n",
    "# write a python function to merge to dict and return the new dict\n",
    "def merge_dict(dict1, dict2):\n",
    "    dict2.update(dict1)\n",
    "    new_dict = dict2\n",
    "    return new_dict"
   ]
  },
  {
   "cell_type": "markdown",
   "metadata": {},
   "source": [
    "# Example Programs"
   ]
  },
  {
   "cell_type": "code",
   "execution_count": 6,
   "metadata": {
    "ExecuteTime": {
     "end_time": "2020-12-17T17:28:42.411345Z",
     "start_time": "2020-12-17T17:28:42.408254Z"
    }
   },
   "outputs": [],
   "source": [
    "## 48\n",
    "# write a python function to Convert Celsius To Fahrenheit and return the result temperature\n",
    "def cel_to_far(celsius_temperature):\n",
    "    fahrenheit_temperature = (celsius_temperature * 1.8) + 32\n",
    "    return fahrenheit_temperature\n",
    "\n",
    "\n",
    "## 49\n",
    "#  write a python function to swap 2 variable without using temporary variable and return the swapped variables\n",
    "def swap_variable(a, b):\n",
    "    a, b = b, a\n",
    "    return a, b\n",
    "\n",
    "\n",
    "## 50\n",
    "# write a python program to generate a list using a list comprehensiona and a range function\n",
    "test_list = [i for i in range(0, 100)]"
   ]
  }
 ],
 "metadata": {
  "kernelspec": {
   "display_name": "pytorch",
   "language": "python",
   "name": "pytorch"
  },
  "language_info": {
   "codemirror_mode": {
    "name": "ipython",
    "version": 3
   },
   "file_extension": ".py",
   "mimetype": "text/x-python",
   "name": "python",
   "nbconvert_exporter": "python",
   "pygments_lexer": "ipython3",
   "version": "3.8.5"
  },
  "varInspector": {
   "cols": {
    "lenName": 16,
    "lenType": 16,
    "lenVar": 40
   },
   "kernels_config": {
    "python": {
     "delete_cmd_postfix": "",
     "delete_cmd_prefix": "del ",
     "library": "var_list.py",
     "varRefreshCmd": "print(var_dic_list())"
    },
    "r": {
     "delete_cmd_postfix": ") ",
     "delete_cmd_prefix": "rm(",
     "library": "var_list.r",
     "varRefreshCmd": "cat(var_dic_list()) "
    }
   },
   "types_to_exclude": [
    "module",
    "function",
    "builtin_function_or_method",
    "instance",
    "_Feature"
   ],
   "window_display": false
  }
 },
 "nbformat": 4,
 "nbformat_minor": 4
}
